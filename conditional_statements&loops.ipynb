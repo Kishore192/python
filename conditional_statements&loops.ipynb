{
  "nbformat": 4,
  "nbformat_minor": 0,
  "metadata": {
    "colab": {
      "provenance": [],
      "include_colab_link": true
    },
    "kernelspec": {
      "name": "python3",
      "display_name": "Python 3"
    },
    "language_info": {
      "name": "python"
    }
  },
  "cells": [
    {
      "cell_type": "markdown",
      "metadata": {
        "id": "view-in-github",
        "colab_type": "text"
      },
      "source": [
        "<a href=\"https://colab.research.google.com/github/Kishore192/python/blob/main/conditional_statements%26loops.ipynb\" target=\"_parent\"><img src=\"https://colab.research.google.com/assets/colab-badge.svg\" alt=\"Open In Colab\"/></a>"
      ]
    },
    {
      "cell_type": "markdown",
      "source": [
        "mathematical operators"
      ],
      "metadata": {
        "id": "K31jlRmAvgSz"
      }
    },
    {
      "cell_type": "code",
      "source": [
        "a=10\n",
        "b=3\n",
        "\n",
        "print(a/b) #single forward slash - float division i.e. o/p will be decimal number\n",
        "print(a//b) #double forward slash - integer division i.e. o/p will be integer number"
      ],
      "metadata": {
        "colab": {
          "base_uri": "https://localhost:8080/"
        },
        "id": "na7HPbLWvi9Z",
        "outputId": "7b0d3c96-72da-414e-dcff-622440e03516"
      },
      "execution_count": null,
      "outputs": [
        {
          "output_type": "stream",
          "name": "stdout",
          "text": [
            "3.3333333333333335\n",
            "3\n"
          ]
        }
      ]
    },
    {
      "cell_type": "code",
      "source": [
        "a=45\n",
        "b=7\n",
        "#compute 45 to the power 7 \n",
        "print(a**b) #a is the base and b is the power"
      ],
      "metadata": {
        "colab": {
          "base_uri": "https://localhost:8080/"
        },
        "id": "dzJWZNQivi4x",
        "outputId": "b52f8562-ff8a-4194-80a9-6dbc4974ea94"
      },
      "execution_count": null,
      "outputs": [
        {
          "output_type": "stream",
          "name": "stdout",
          "text": [
            "373669453125\n"
          ]
        }
      ]
    },
    {
      "cell_type": "code",
      "source": [
        "a=2\n",
        "b=3\n",
        "print(a**b) #2 to the power 3 "
      ],
      "metadata": {
        "colab": {
          "base_uri": "https://localhost:8080/"
        },
        "id": "ml1PWU0fvi2v",
        "outputId": "eba306e1-4fe8-4619-e5f4-237194c9d4bb"
      },
      "execution_count": null,
      "outputs": [
        {
          "output_type": "stream",
          "name": "stdout",
          "text": [
            "8\n"
          ]
        }
      ]
    },
    {
      "cell_type": "code",
      "source": [
        "a=10\n",
        "b=3\n",
        "print(a%b) #remainder of a/b will be fetched"
      ],
      "metadata": {
        "colab": {
          "base_uri": "https://localhost:8080/"
        },
        "id": "MxC0QVM3vix3",
        "outputId": "ba2cc77d-2d7f-4f47-8571-f4532026e82e"
      },
      "execution_count": null,
      "outputs": [
        {
          "output_type": "stream",
          "name": "stdout",
          "text": [
            "1\n"
          ]
        }
      ]
    },
    {
      "cell_type": "code",
      "source": [
        "a=15\n",
        "b=5\n",
        "print(a%b)"
      ],
      "metadata": {
        "colab": {
          "base_uri": "https://localhost:8080/"
        },
        "id": "nnvk4dlPwmLg",
        "outputId": "95b7a79b-6016-40c7-e28d-cfd26c4ce538"
      },
      "execution_count": null,
      "outputs": [
        {
          "output_type": "stream",
          "name": "stdout",
          "text": [
            "0\n"
          ]
        }
      ]
    },
    {
      "cell_type": "markdown",
      "source": [
        "In a fare, the entry fee of children less than 4 years of age is 0 INR, for children of age 4-15 years, the entry fee is 100 INR and for people more than 15 years of age, the entry fee is 175 INR.\n",
        "\n",
        "Take age as input from the user and display the price of ticket"
      ],
      "metadata": {
        "id": "h_baz-dOoSXx"
      }
    },
    {
      "cell_type": "code",
      "execution_count": null,
      "metadata": {
        "colab": {
          "base_uri": "https://localhost:8080/"
        },
        "id": "eCMxggF-mY9J",
        "outputId": "e19f1d34-8496-462e-d6b9-d7856ed20a6d"
      },
      "outputs": [
        {
          "output_type": "stream",
          "name": "stdout",
          "text": [
            "enter your age15\n",
            "100 rupees\n"
          ]
        }
      ],
      "source": [
        "age=int(input(\"enter your age\"))\n",
        "\n",
        "if age<4:\n",
        "  print(\"no entry fee\")\n",
        "\n",
        "elif 4<=age<=15:\n",
        "  print(\"100 rupees\")\n",
        "\n",
        "else:\n",
        "  print(\"175 rupees\")"
      ]
    },
    {
      "cell_type": "markdown",
      "source": [
        "Take a number as input from the user and check if the number is perfectly divisibly by 2, 3 and 7 respectively "
      ],
      "metadata": {
        "id": "NvYoMxpTsNTQ"
      }
    },
    {
      "cell_type": "code",
      "source": [
        "#perfectly divisible means remainder will be 0\n",
        "num=int(input(\"enter a number\"))\n",
        "\n",
        "if num%2==0:\n",
        "  print(\"perfectly divisible by 2\")\n",
        "\n",
        "else:\n",
        "  print(\"not perfectly divisible by 2\")\n",
        "\n",
        "if num%3==0:\n",
        "  print(\"perfectly divisible by 3\")\n",
        "\n",
        "else:\n",
        "  print(\"not perfectly divisible by 3\")\n",
        "\n",
        "if num%7==0:\n",
        "  print(\"perfectly divisible by 7\")\n",
        "\n",
        "else:\n",
        "  print(\"not perfectly divisible by 7\")"
      ],
      "metadata": {
        "colab": {
          "base_uri": "https://localhost:8080/"
        },
        "id": "-XY_B8-DrSZE",
        "outputId": "0cf33aee-4158-40d3-aec3-d9f2d43f5460"
      },
      "execution_count": null,
      "outputs": [
        {
          "output_type": "stream",
          "name": "stdout",
          "text": [
            "enter a number49\n",
            "not perfectly divisible by 2\n",
            "not perfectly divisible by 3\n",
            "perfectly divisible by 7\n"
          ]
        }
      ]
    },
    {
      "cell_type": "markdown",
      "source": [
        "Take a number as input from the user and check if the number is even or odd"
      ],
      "metadata": {
        "id": "fzeE9VwI077g"
      }
    },
    {
      "cell_type": "code",
      "source": [
        "#even number is a number which is perfectly divisibly by 2\n",
        "num=int(input(\"enter a number\"))\n",
        "\n",
        "if num%2==0:\n",
        "  print(\"number is even\")\n",
        "\n",
        "else:\n",
        "  print(\"number is odd\")"
      ],
      "metadata": {
        "colab": {
          "base_uri": "https://localhost:8080/"
        },
        "id": "mQ55tVBvxROs",
        "outputId": "dbb1fa57-253b-4f54-9e31-b07dbbcba1b1"
      },
      "execution_count": null,
      "outputs": [
        {
          "output_type": "stream",
          "name": "stdout",
          "text": [
            "enter a number5\n",
            "number is odd\n"
          ]
        }
      ]
    },
    {
      "cell_type": "markdown",
      "source": [
        "The owner of a company decides to give bonus of 5% to employees who have been working for this company for 5 years or more.\n",
        "\n",
        "Take current salary and years of experience with this company as input and display the incremented salary (if any)"
      ],
      "metadata": {
        "id": "uG8Qo9Dw2WVp"
      }
    },
    {
      "cell_type": "code",
      "source": [
        "current_salary=int(input(\"enter your current salary\"))\n",
        "years=int(input(\"enter years of exp. with this co.\"))\n",
        "\n",
        "if years>=5:\n",
        "  print(\"incremented salary is\",current_salary+0.05*current_salary)\n",
        "\n",
        "else:\n",
        "  print(\"no increment in salary, your current salary is\",current_salary)"
      ],
      "metadata": {
        "colab": {
          "base_uri": "https://localhost:8080/"
        },
        "id": "NQ0wJ6IR1Hx_",
        "outputId": "54de8562-6e27-4791-92eb-c4d2e389af29"
      },
      "execution_count": null,
      "outputs": [
        {
          "output_type": "stream",
          "name": "stdout",
          "text": [
            "enter your current salary100000\n",
            "enter years of exp. with this co.6\n",
            "incremented salary is 105000.0\n"
          ]
        }
      ]
    },
    {
      "cell_type": "markdown",
      "source": [
        "A grocery store allows 20% discount on items purchased worth more than 2000 INR. Considering price of each commodity to be 200 INR, calculate the price after the discount to be paid at the end\n",
        "\n",
        "Take number of commodities purchased as input from the user"
      ],
      "metadata": {
        "id": "yKGjsruv6YgP"
      }
    },
    {
      "cell_type": "code",
      "source": [
        "items=int(input(\"enter number of items\"))\n",
        "current_price=200*items\n",
        "\n",
        "if current_price>2000:\n",
        "  discounted_price=current_price-0.2*current_price\n",
        "  print(\"price to be paid after discount of 20% is\", discounted_price)\n",
        "\n",
        "else:\n",
        "  print(\"price to be paid\",current_price)"
      ],
      "metadata": {
        "colab": {
          "base_uri": "https://localhost:8080/"
        },
        "id": "YVCJyyhm5wAa",
        "outputId": "af21eefe-04db-47ea-df25-0d9ad4395d80"
      },
      "execution_count": null,
      "outputs": [
        {
          "output_type": "stream",
          "name": "stdout",
          "text": [
            "enter number of items11\n",
            "price to be paid after discount of 20% is 1760.0\n"
          ]
        }
      ]
    },
    {
      "cell_type": "markdown",
      "source": [
        "Nested Statements"
      ],
      "metadata": {
        "id": "7_cYxWhu-ZRt"
      }
    },
    {
      "cell_type": "markdown",
      "source": [
        "Take a number as input from the user and check if the number is greater than 10 or not.\n",
        "\n",
        "Incase the number is greater than 10, check if it is greater than 20 also or not"
      ],
      "metadata": {
        "id": "hSeDyWFGDrNt"
      }
    },
    {
      "cell_type": "code",
      "source": [
        "x=int(input(\"enter a number\"))\n",
        "\n",
        "if x>10:\n",
        "\n",
        "  if x>20:\n",
        "    print(\"x is greater than 20\")\n",
        "\n",
        "  else:\n",
        "    print(\"x is less than 20 but greater than 10\")\n",
        "\n",
        "else:\n",
        "  print(\"x is less than 10\")"
      ],
      "metadata": {
        "colab": {
          "base_uri": "https://localhost:8080/"
        },
        "id": "S-7PcblZ-GMW",
        "outputId": "4733a488-273f-4b50-8550-ae70fc16ae23"
      },
      "execution_count": null,
      "outputs": [
        {
          "output_type": "stream",
          "name": "stdout",
          "text": [
            "enter a number5\n",
            "x is less than 10\n"
          ]
        }
      ]
    },
    {
      "cell_type": "markdown",
      "source": [
        "Take a number as input from the user and check if the number is positive, negative or zero (use nested if statements only)"
      ],
      "metadata": {
        "id": "hEZnUSeYI5vU"
      }
    },
    {
      "cell_type": "code",
      "source": [
        "x=int(input(\"enter a number\"))\n",
        "\n",
        "if x>=0:\n",
        "\n",
        "  if x>0:\n",
        "    print(\"x is positive\")\n",
        "\n",
        "  else:\n",
        "    print(\"x is zero\")\n",
        "  \n",
        "else:\n",
        "  print(\"x is negative\")"
      ],
      "metadata": {
        "colab": {
          "base_uri": "https://localhost:8080/"
        },
        "id": "vSHDLi4WEHD3",
        "outputId": "b7f963b7-7637-4aa5-bc59-f02fad6bd055"
      },
      "execution_count": null,
      "outputs": [
        {
          "output_type": "stream",
          "name": "stdout",
          "text": [
            "enter a number-3\n",
            "x is negative\n"
          ]
        }
      ]
    },
    {
      "cell_type": "markdown",
      "source": [
        "LOOPS"
      ],
      "metadata": {
        "id": "pMIujYTwK40D"
      }
    },
    {
      "cell_type": "markdown",
      "source": [
        "Print the numbers 1-10 using while loop"
      ],
      "metadata": {
        "id": "0a1CPfd2RUJr"
      }
    },
    {
      "cell_type": "code",
      "source": [
        "a=1 #temp variable initialized with value 1\n",
        "\n",
        "while a<=10:\n",
        "  print(a)\n",
        "  a=a+1"
      ],
      "metadata": {
        "colab": {
          "base_uri": "https://localhost:8080/"
        },
        "id": "dDWU_hKfKdRn",
        "outputId": "254fd20a-846c-424c-d2fe-28d3fd297911"
      },
      "execution_count": null,
      "outputs": [
        {
          "output_type": "stream",
          "name": "stdout",
          "text": [
            "1\n",
            "2\n",
            "3\n",
            "4\n",
            "5\n",
            "6\n",
            "7\n",
            "8\n",
            "9\n",
            "10\n"
          ]
        }
      ]
    },
    {
      "cell_type": "markdown",
      "source": [
        "Print all the odd numbers between 1-10 using while loop"
      ],
      "metadata": {
        "id": "Hf8_PPDPRnSG"
      }
    },
    {
      "cell_type": "code",
      "source": [
        "a=1 #temp variable initialized with value 1\n",
        "\n",
        "while a<=10:\n",
        "  print(a)\n",
        "  a=a+2"
      ],
      "metadata": {
        "colab": {
          "base_uri": "https://localhost:8080/"
        },
        "id": "5BYeTFFGRfhI",
        "outputId": "559c5e21-ae0c-458f-b133-15ec399148db"
      },
      "execution_count": null,
      "outputs": [
        {
          "output_type": "stream",
          "name": "stdout",
          "text": [
            "1\n",
            "3\n",
            "5\n",
            "7\n",
            "9\n"
          ]
        }
      ]
    },
    {
      "cell_type": "markdown",
      "source": [
        "Print the numbers 1-10 using for loop"
      ],
      "metadata": {
        "id": "raPEukwKUREb"
      }
    },
    {
      "cell_type": "code",
      "source": [
        "for i in range(1,11,1): #by default the step size is 1\n",
        "  print(i)"
      ],
      "metadata": {
        "colab": {
          "base_uri": "https://localhost:8080/"
        },
        "id": "pGFYVznZSE0j",
        "outputId": "412599c8-a1fe-4eda-f2af-ba5f2803d2d7"
      },
      "execution_count": null,
      "outputs": [
        {
          "output_type": "stream",
          "name": "stdout",
          "text": [
            "1\n",
            "2\n",
            "3\n",
            "4\n",
            "5\n",
            "6\n",
            "7\n",
            "8\n",
            "9\n",
            "10\n"
          ]
        }
      ]
    },
    {
      "cell_type": "markdown",
      "source": [
        "Print all the odd numbers between 1-10 using for loop"
      ],
      "metadata": {
        "id": "o7ecFwNeUiXZ"
      }
    },
    {
      "cell_type": "code",
      "source": [
        "for i in range(1,11,2):\n",
        "  print(i)"
      ],
      "metadata": {
        "colab": {
          "base_uri": "https://localhost:8080/"
        },
        "id": "yzQgv9Q2UdOk",
        "outputId": "adc00c23-d5a1-4f00-9657-f6ef6921bd87"
      },
      "execution_count": null,
      "outputs": [
        {
          "output_type": "stream",
          "name": "stdout",
          "text": [
            "1\n",
            "3\n",
            "5\n",
            "7\n",
            "9\n"
          ]
        }
      ]
    },
    {
      "cell_type": "markdown",
      "source": [
        "Output based questions"
      ],
      "metadata": {
        "id": "2tzsnl7OU_M6"
      }
    },
    {
      "cell_type": "code",
      "source": [
        "a=7\n",
        "b=5\n",
        "\n",
        "while a<9:\n",
        "  print(a+b)\n",
        "  a=a+1"
      ],
      "metadata": {
        "colab": {
          "base_uri": "https://localhost:8080/"
        },
        "id": "lABzPgrUUuPo",
        "outputId": "4af0a90a-f561-484b-c5bb-1061ac548cb8"
      },
      "execution_count": null,
      "outputs": [
        {
          "output_type": "stream",
          "name": "stdout",
          "text": [
            "12\n",
            "13\n"
          ]
        }
      ]
    },
    {
      "cell_type": "code",
      "source": [
        "x=5\n",
        "\n",
        "while x<15:\n",
        "  print(x**2)\n",
        "  x=x+3"
      ],
      "metadata": {
        "colab": {
          "base_uri": "https://localhost:8080/"
        },
        "id": "GIpComdRVWYT",
        "outputId": "42ad6a7a-dc70-4787-d152-b73cc8b025ce"
      },
      "execution_count": null,
      "outputs": [
        {
          "output_type": "stream",
          "name": "stdout",
          "text": [
            "25\n",
            "64\n",
            "121\n",
            "196\n"
          ]
        }
      ]
    },
    {
      "cell_type": "markdown",
      "source": [
        "Take a number as input from the user and display its multiplication table "
      ],
      "metadata": {
        "id": "2d3V5W4jXbxP"
      }
    },
    {
      "cell_type": "code",
      "source": [
        "num=int(input(\"enter a number\"))\n",
        "for i in range(1,11):\n",
        "  print(num*i)"
      ],
      "metadata": {
        "colab": {
          "base_uri": "https://localhost:8080/"
        },
        "id": "ICPt6mtKWOJK",
        "outputId": "2f0591d8-d960-4422-e58d-78264604a8cf"
      },
      "execution_count": null,
      "outputs": [
        {
          "output_type": "stream",
          "name": "stdout",
          "text": [
            "enter a number17\n",
            "17\n",
            "34\n",
            "51\n",
            "68\n",
            "85\n",
            "102\n",
            "119\n",
            "136\n",
            "153\n",
            "170\n"
          ]
        }
      ]
    },
    {
      "cell_type": "code",
      "source": [
        "num=int(input(\"enter a number\"))\n",
        "a=1\n",
        "while a<11:\n",
        "  print(num*a)\n",
        "  a=a+1"
      ],
      "metadata": {
        "colab": {
          "base_uri": "https://localhost:8080/"
        },
        "id": "cL6nJS1LXyI6",
        "outputId": "3182122d-e5c2-4964-f91a-bd44517343bf"
      },
      "execution_count": null,
      "outputs": [
        {
          "output_type": "stream",
          "name": "stdout",
          "text": [
            "enter a number5\n",
            "5\n",
            "10\n",
            "15\n",
            "20\n",
            "25\n",
            "30\n",
            "35\n",
            "40\n",
            "45\n",
            "50\n"
          ]
        }
      ]
    },
    {
      "cell_type": "markdown",
      "source": [
        "Take a list of numbers and display all the even numbers in the given list"
      ],
      "metadata": {
        "id": "cBIXd9Yxc97K"
      }
    },
    {
      "cell_type": "code",
      "source": [
        "l1=[23,49,77,67,34,65,23,98,22,78]\n",
        "\n",
        "for a in l1:\n",
        "  if a%2==0:\n",
        "    print(a)"
      ],
      "metadata": {
        "colab": {
          "base_uri": "https://localhost:8080/"
        },
        "id": "R7htLyWaaeXo",
        "outputId": "c09e64fa-003b-4a6d-ccc3-70cd719cefae"
      },
      "execution_count": null,
      "outputs": [
        {
          "output_type": "stream",
          "name": "stdout",
          "text": [
            "34\n",
            "98\n",
            "22\n",
            "78\n"
          ]
        }
      ]
    },
    {
      "cell_type": "markdown",
      "source": [
        "Take a list of numbers and display the square of numbers in the given list"
      ],
      "metadata": {
        "id": "ejMcYMzBdm-d"
      }
    },
    {
      "cell_type": "code",
      "source": [
        "l2=[2,3,4,5,6,7]\n",
        "\n",
        "for b in l2:\n",
        "  print(b**2)"
      ],
      "metadata": {
        "colab": {
          "base_uri": "https://localhost:8080/"
        },
        "id": "2LvJCOladRpn",
        "outputId": "0329a54f-3a92-4404-fefa-5cb6696fe3ec"
      },
      "execution_count": null,
      "outputs": [
        {
          "output_type": "stream",
          "name": "stdout",
          "text": [
            "4\n",
            "9\n",
            "16\n",
            "25\n",
            "36\n",
            "49\n"
          ]
        }
      ]
    },
    {
      "cell_type": "markdown",
      "source": [
        "Take a list of numbers and display the count of even and count of odd numbers in the given list"
      ],
      "metadata": {
        "id": "N8oqSkJHfFYL"
      }
    },
    {
      "cell_type": "code",
      "source": [
        "l1=[23,49,77,67,34,65,23,98,22,78]\n",
        "\n",
        "count_even=0\n",
        "count_odd=0\n",
        "\n",
        "for i in l1:\n",
        "  if i%2==0: #even\n",
        "    count_even=count_even+1 #counter of even will be incremented by 1\n",
        "\n",
        "  else: #odd\n",
        "    count_odd=count_odd+1 #counter of odd will be incremented by 1 \n",
        "\n",
        "print(\"even numbers in the list are\",count_even,\"and odd numbers are\", count_odd)"
      ],
      "metadata": {
        "colab": {
          "base_uri": "https://localhost:8080/"
        },
        "id": "81j8RfvoeqQV",
        "outputId": "d6b2d862-4895-4a62-eef9-15882ea5651d"
      },
      "execution_count": null,
      "outputs": [
        {
          "output_type": "stream",
          "name": "stdout",
          "text": [
            "even numbers in the list are 4 and odd numbers are 6\n"
          ]
        }
      ]
    },
    {
      "cell_type": "markdown",
      "source": [
        "STATEMENTS\n",
        "\n",
        "1. PASS\n",
        "\n",
        "2. BREAK\n",
        "\n",
        "3. CONTINUE"
      ],
      "metadata": {
        "id": "PHcidk9-mpz4"
      }
    },
    {
      "cell_type": "code",
      "source": [
        "#PASS - makes a particular segment of  your code inactive"
      ],
      "metadata": {
        "id": "H7F8ueUjgvDP"
      },
      "execution_count": null,
      "outputs": []
    },
    {
      "cell_type": "code",
      "source": [
        "x=int(input(\"enter a number\"))\n",
        "y=int(input(\"enter a number\"))\n",
        "\n",
        "if x>y:\n",
        "  print(\"x is greater than y\")\n",
        "\n",
        "else:\n",
        "  pass #there will be no o/p incase y>x"
      ],
      "metadata": {
        "colab": {
          "base_uri": "https://localhost:8080/"
        },
        "id": "shW23scim-eU",
        "outputId": "7de56977-e35d-4577-c32c-8a11239cd2a6"
      },
      "execution_count": null,
      "outputs": [
        {
          "name": "stdout",
          "output_type": "stream",
          "text": [
            "enter a number15\n",
            "enter a number25\n"
          ]
        }
      ]
    },
    {
      "cell_type": "code",
      "source": [
        "l1=[23,49,77,67,34,65,23,98,22,78]\n",
        "\n",
        "for a in l1:\n",
        "  if a%2==0:\n",
        "    print(a)\n",
        "\n",
        "  else:\n",
        "    pass "
      ],
      "metadata": {
        "colab": {
          "base_uri": "https://localhost:8080/"
        },
        "id": "p7k8AAjZnNWt",
        "outputId": "1bee7023-d15c-4007-93cd-b742fe0516da"
      },
      "execution_count": null,
      "outputs": [
        {
          "output_type": "stream",
          "name": "stdout",
          "text": [
            "34\n",
            "98\n",
            "22\n",
            "78\n"
          ]
        }
      ]
    },
    {
      "cell_type": "code",
      "source": [
        "l1=[23,49,77,67,34,65,23,98,22,78]\n",
        "\n",
        "for a in l1:\n",
        "  if a%2==0:\n",
        "    pass\n",
        "\n",
        "  else:\n",
        "    print(a)"
      ],
      "metadata": {
        "colab": {
          "base_uri": "https://localhost:8080/"
        },
        "id": "bGvKZX_QnfGS",
        "outputId": "26b84ae1-ded3-4bdf-f05e-7dc14bd341f6"
      },
      "execution_count": null,
      "outputs": [
        {
          "output_type": "stream",
          "name": "stdout",
          "text": [
            "23\n",
            "49\n",
            "77\n",
            "67\n",
            "65\n",
            "23\n"
          ]
        }
      ]
    },
    {
      "cell_type": "code",
      "source": [
        "#BREAK - forcebly terminate the ongoing loop when a particular condition is satisfied\n",
        "fruits=['apple','banana','mango','guava','grapes']\n",
        "\n",
        "for i in fruits:\n",
        "  if i=='guava':\n",
        "    break \n",
        "\n",
        "  print(i)"
      ],
      "metadata": {
        "colab": {
          "base_uri": "https://localhost:8080/"
        },
        "id": "Rcgs7_bgnoi3",
        "outputId": "37ca96a2-da47-45aa-e71a-8b5fe6f5fc43"
      },
      "execution_count": null,
      "outputs": [
        {
          "output_type": "stream",
          "name": "stdout",
          "text": [
            "apple\n",
            "banana\n",
            "mango\n"
          ]
        }
      ]
    },
    {
      "cell_type": "code",
      "source": [
        "name='Washington'\n",
        "\n",
        "for i in name:\n",
        "  if i=='h':\n",
        "    break\n",
        "\n",
        "  print(i)"
      ],
      "metadata": {
        "colab": {
          "base_uri": "https://localhost:8080/"
        },
        "id": "o6wHb-JfotM0",
        "outputId": "e556eb64-d25d-4c75-c8e0-bcc8a42979b6"
      },
      "execution_count": null,
      "outputs": [
        {
          "output_type": "stream",
          "name": "stdout",
          "text": [
            "W\n",
            "a\n",
            "s\n"
          ]
        }
      ]
    },
    {
      "cell_type": "code",
      "source": [
        "#CONTINUE - skip the mentioned element in the satisfied condition"
      ],
      "metadata": {
        "id": "38TZq-bPo8Hg"
      },
      "execution_count": null,
      "outputs": []
    },
    {
      "cell_type": "code",
      "source": [
        "fruits=['apple','banana','mango','guava','grapes']\n",
        "\n",
        "for i in fruits:\n",
        "  if i=='guava':\n",
        "    continue \n",
        "\n",
        "  print(i)"
      ],
      "metadata": {
        "colab": {
          "base_uri": "https://localhost:8080/"
        },
        "id": "1ntqlkJ4pkj0",
        "outputId": "05c4c00d-9861-46e6-fde6-59f29f0a2e76"
      },
      "execution_count": null,
      "outputs": [
        {
          "output_type": "stream",
          "name": "stdout",
          "text": [
            "apple\n",
            "banana\n",
            "mango\n",
            "grapes\n"
          ]
        }
      ]
    },
    {
      "cell_type": "code",
      "source": [
        "name='Washington'\n",
        "\n",
        "for i in name:\n",
        "  if i=='h':\n",
        "    continue\n",
        "\n",
        "  print(i)"
      ],
      "metadata": {
        "colab": {
          "base_uri": "https://localhost:8080/"
        },
        "id": "372VMyt0poSo",
        "outputId": "cd8adfa4-f955-4de2-f7ed-c9d28075f7c0"
      },
      "execution_count": null,
      "outputs": [
        {
          "output_type": "stream",
          "name": "stdout",
          "text": [
            "W\n",
            "a\n",
            "s\n",
            "i\n",
            "n\n",
            "g\n",
            "t\n",
            "o\n",
            "n\n"
          ]
        }
      ]
    },
    {
      "cell_type": "markdown",
      "source": [
        "Display all the numbers between 1 to 10 except 3 and 6"
      ],
      "metadata": {
        "id": "x_DAbcQNp9On"
      }
    },
    {
      "cell_type": "code",
      "source": [
        "for i in range(1,11):\n",
        "\n",
        "  if i==3 or i==6:\n",
        "    continue\n",
        "\n",
        "  print(i)"
      ],
      "metadata": {
        "colab": {
          "base_uri": "https://localhost:8080/"
        },
        "id": "qL4DZHUep0Md",
        "outputId": "ed8a83ec-b593-4a20-c570-a4b6b0c785f3"
      },
      "execution_count": null,
      "outputs": [
        {
          "output_type": "stream",
          "name": "stdout",
          "text": [
            "1\n",
            "2\n",
            "4\n",
            "5\n",
            "7\n",
            "8\n",
            "9\n",
            "10\n"
          ]
        }
      ]
    },
    {
      "cell_type": "code",
      "source": [],
      "metadata": {
        "id": "_ElT-RVGrX3e"
      },
      "execution_count": null,
      "outputs": []
    }
  ]
}