{
  "nbformat": 4,
  "nbformat_minor": 0,
  "metadata": {
    "colab": {
      "provenance": [],
      "include_colab_link": true
    },
    "kernelspec": {
      "name": "python3",
      "display_name": "Python 3"
    },
    "language_info": {
      "name": "python"
    }
  },
  "cells": [
    {
      "cell_type": "markdown",
      "metadata": {
        "id": "view-in-github",
        "colab_type": "text"
      },
      "source": [
        "<a href=\"https://colab.research.google.com/github/Kishore192/python/blob/main/_Loops_Python.ipynb\" target=\"_parent\"><img src=\"https://colab.research.google.com/assets/colab-badge.svg\" alt=\"Open In Colab\"/></a>"
      ]
    },
    {
      "cell_type": "markdown",
      "source": [
        "Write a program which accepts month's name as input and display the number of days in the month as output "
      ],
      "metadata": {
        "id": "MdAkQQ_Y4wwG"
      }
    },
    {
      "cell_type": "code",
      "source": [
        "month=str(input(\"type name of the month\"))\n",
        "  \n",
        "if (month == \"February\"):\n",
        "    print(\"No of days:28/29days\")\n",
        "elif month in (\"January\", \"March\", \"May\", \"July\", \"August\", \"October\", \"December\"):\n",
        "\tprint(\"No. of days: 31 day\")\n",
        "elif month in (\"April\", \"June\", \"September\", \"November\"):\n",
        "    print(\"No of days:30days\")\n",
        "else:\n",
        "    print(\"wrong month name\")"
      ],
      "metadata": {
        "id": "z5aG9O10fMAx",
        "colab": {
          "base_uri": "https://localhost:8080/"
        },
        "outputId": "3ebe6b03-7876-4422-e23d-ca0cd326e7d9"
      },
      "execution_count": null,
      "outputs": [
        {
          "output_type": "stream",
          "name": "stdout",
          "text": [
            "type name of the monthMarch\n",
            "No. of days: 31 day\n"
          ]
        }
      ]
    },
    {
      "cell_type": "markdown",
      "source": [
        "Take any word as input from the user and count the number of vowels in the word"
      ],
      "metadata": {
        "id": "Q8cCBC198J6M"
      }
    },
    {
      "cell_type": "code",
      "source": [
        "word=str(input(\"enter the word\"))\n",
        "vowel_count=0\n",
        "for i in word:\n",
        "  if i in ('a','A','e','E','i','I','o','O','u','U'):\n",
        "    vowel_count=vowel_count+1\n",
        "  else:\n",
        "    pass\n",
        "  \n",
        "print('No of vowels are',vowel_count)"
      ],
      "metadata": {
        "colab": {
          "base_uri": "https://localhost:8080/"
        },
        "id": "cCeuSVU5k0kE",
        "outputId": "64a14bd9-c00b-40af-c084-8912277a3a9e"
      },
      "execution_count": null,
      "outputs": [
        {
          "output_type": "stream",
          "name": "stdout",
          "text": [
            "enter the wordkishore\n",
            "No of vowels are 3\n"
          ]
        }
      ]
    },
    {
      "cell_type": "markdown",
      "source": [
        "Write a program to separate even and odd numbers in two distinct lists from a list of numbers of your choice "
      ],
      "metadata": {
        "id": "1ugWwVXd49OI"
      }
    },
    {
      "cell_type": "code",
      "source": [
        "l1=[1,6,3,2,7,8,4,12,14]\n",
        "l2=[100,111,113,118,126,145,188]\n",
        "even=[]\n",
        "odd=[]\n",
        "for i in l1+l2:\n",
        "  if i%2==0:\n",
        "    even.append(i)\n",
        "  else:\n",
        "    odd.append(i)\n",
        "print(\"The even list\",even)\n",
        "print(\"The odd list\",odd) "
      ],
      "metadata": {
        "colab": {
          "base_uri": "https://localhost:8080/"
        },
        "id": "B5SiU2OWoINm",
        "outputId": "8545dfd1-00b2-469c-c3b8-ae41d1f42e36"
      },
      "execution_count": null,
      "outputs": [
        {
          "output_type": "stream",
          "name": "stdout",
          "text": [
            "The even list [6, 2, 8, 4, 12, 14, 100, 118, 126, 188]\n",
            "The odd list [1, 3, 7, 111, 113, 145]\n"
          ]
        }
      ]
    },
    {
      "cell_type": "markdown",
      "source": [
        "Write a program that appends datatype of elements from a list to a separate list"
      ],
      "metadata": {
        "id": "uaqnGrhs49Mf"
      }
    },
    {
      "cell_type": "code",
      "source": [
        "l1=['apple','grapes',23,3.3,19,38,0.6]\n",
        "l2=[]\n",
        "for i in l1:\n",
        "  l2.append(type(i))\n",
        "  \n",
        "print(l2)"
      ],
      "metadata": {
        "colab": {
          "base_uri": "https://localhost:8080/"
        },
        "id": "NdnSJW9ouvyA",
        "outputId": "bdd1438f-48d3-4def-b633-c0505ddbad42"
      },
      "execution_count": null,
      "outputs": [
        {
          "output_type": "stream",
          "name": "stdout",
          "text": [
            "[<class 'str'>, <class 'str'>, <class 'int'>, <class 'float'>, <class 'int'>, <class 'int'>, <class 'float'>]\n"
          ]
        }
      ]
    },
    {
      "cell_type": "markdown",
      "source": [
        "Write a program to display only those numbers from a list that satisfies the following conditions:\n",
        "\n",
        "1. The number must be divisible by 7\n",
        "\n",
        "2. If the number is 140 then skip it and move to the next number in the list\n",
        "\n",
        "3. If the number in the list is greater than 630 then stop the loop"
      ],
      "metadata": {
        "id": "ddMu0Pj1643Y"
      }
    },
    {
      "cell_type": "code",
      "source": [
        " l1=[2,7,42,36,49,140,210,350,630,700]\n",
        " for i in l1:\n",
        "    if(i==140):\n",
        "      continue\n",
        "    elif (i>=630):\n",
        "      break\n",
        "    elif (i%7==0):\n",
        "      print(i)\n",
        "    else:\n",
        "      pass\n",
        " "
      ],
      "metadata": {
        "id": "1sm4z9-WwB33",
        "colab": {
          "base_uri": "https://localhost:8080/"
        },
        "outputId": "d82e4fd4-1b1f-45e2-c31b-e39cf9b6b50d"
      },
      "execution_count": null,
      "outputs": [
        {
          "output_type": "stream",
          "name": "stdout",
          "text": [
            "7\n",
            "42\n",
            "49\n",
            "210\n",
            "350\n"
          ]
        }
      ]
    }
  ]
}