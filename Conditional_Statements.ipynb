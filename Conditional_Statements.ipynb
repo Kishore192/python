{
  "nbformat": 4,
  "nbformat_minor": 0,
  "metadata": {
    "colab": {
      "provenance": [],
      "include_colab_link": true
    },
    "kernelspec": {
      "name": "python3",
      "display_name": "Python 3"
    },
    "language_info": {
      "name": "python"
    }
  },
  "cells": [
    {
      "cell_type": "markdown",
      "metadata": {
        "id": "view-in-github",
        "colab_type": "text"
      },
      "source": [
        "<a href=\"https://colab.research.google.com/github/Kishore192/python/blob/main/Conditional_Statements.ipynb\" target=\"_parent\"><img src=\"https://colab.research.google.com/assets/colab-badge.svg\" alt=\"Open In Colab\"/></a>"
      ]
    },
    {
      "cell_type": "markdown",
      "source": [
        "Take three numbers 'x', 'y' and 'z' as input from the user and check which number is greater\n"
      ],
      "metadata": {
        "id": "AcR_27Hh5QTe"
      }
    },
    {
      "cell_type": "code",
      "source": [
        "x=int(input(\"enter the no x\"))\n",
        "y=int(input(\"enter the no y\"))\n",
        "z=int(input(\"enter the no z\"))\n",
        "if x>y and x>z:\n",
        "  print(\"x is greater than y and z\")\n",
        "elif y>x and y>z:\n",
        "  print(\"y is greater than x and z\")\n",
        "else:\n",
        "  print(\"z is greater than y and x\")"
      ],
      "metadata": {
        "id": "zsPQh-pn6yHb",
        "colab": {
          "base_uri": "https://localhost:8080/"
        },
        "outputId": "d2d0008a-48a2-42b0-bd0a-c375ce40ccea"
      },
      "execution_count": null,
      "outputs": [
        {
          "output_type": "stream",
          "name": "stdout",
          "text": [
            "enter the no x45\n",
            "enter the no y83\n",
            "enter the no z5\n",
            "y is greater than x and z\n"
          ]
        }
      ]
    },
    {
      "cell_type": "markdown",
      "source": [
        "Take an alphabet as input from the user and check if the alphabet is a vowel, consonant or an exception\n",
        "\n",
        "\n",
        "Vowel - 'a','e','i','o','u'\n",
        "\n",
        "Exception - 'h', 'y'\n",
        "\n",
        "Consonant - rest other alphabets "
      ],
      "metadata": {
        "id": "QgkCsQlx4c5Y"
      }
    },
    {
      "cell_type": "code",
      "source": [
        "x=str(input(\"enter your alphabet\"))\n",
        "\n",
        "if x=='a':\n",
        "  print (\"x is vowel\")\n",
        "\n",
        "elif x=='e':\n",
        "  print (\"x is vowel\")\n",
        "elif x=='i':\n",
        "  print (\"x is vowel\")\n",
        "elif x=='o':\n",
        "  print (\"x is vowel\")\n",
        "elif x=='u':\n",
        "  print (\"x is vowel\")\n",
        "elif x=='h':\n",
        "  print (\"x is exception\")\n",
        "elif x=='y':\n",
        "  print (\"x is exception\")\n",
        "else:\n",
        "   print (\"x is consonant\")"
      ],
      "metadata": {
        "id": "SXzKlnWa66ri",
        "colab": {
          "base_uri": "https://localhost:8080/"
        },
        "outputId": "7ecad180-0eef-48db-f89e-32e2f2a184af"
      },
      "execution_count": null,
      "outputs": [
        {
          "output_type": "stream",
          "name": "stdout",
          "text": [
            "enter your alphabeti\n",
            "x is vowel\n"
          ]
        }
      ]
    },
    {
      "cell_type": "markdown",
      "source": [
        "Write a program to check whether a number given by a user is divisible by 2 and 3 both "
      ],
      "metadata": {
        "id": "5TqcIsuG4N4x"
      }
    },
    {
      "cell_type": "code",
      "source": [
        "x=int(input(\"enter the no\"))\n",
        "if x%2==0 and x%3==0:\n",
        "  print (\"x is divisible by both 2 and 3\")\n",
        "else:\n",
        "   print (\"x is not divisible either by 2 or 3\")"
      ],
      "metadata": {
        "id": "-vY9PPU_7P59",
        "colab": {
          "base_uri": "https://localhost:8080/"
        },
        "outputId": "bb8f2185-f2cb-4922-c0f0-4ccb13165a87"
      },
      "execution_count": null,
      "outputs": [
        {
          "output_type": "stream",
          "name": "stdout",
          "text": [
            "enter the no12\n",
            "x is divisible by both 2 and 3\n"
          ]
        }
      ]
    },
    {
      "cell_type": "markdown",
      "source": [
        "Write a program to accept the cost price  of a bike as input and display the road tax to be paid according to the following crieteria :-\n",
        "\n",
        "Cost price - 100000 Tax - 15%\n",
        "\n",
        "Cost price - between 50000 to 100000 Tax - 10%\n",
        "\n",
        "Cost price - less than 50000 Tax - 5%"
      ],
      "metadata": {
        "id": "Vl0l7eM93o-k"
      }
    },
    {
      "cell_type": "code",
      "source": [
        "x=float(input(\"cost of bike\"))\n",
        "if x<=50000:\n",
        "  road_tax=0.05*x\n",
        "  print(\"road_tax\",road_tax)\n",
        "elif 50000<x<100000:\n",
        "  road_tax=0.1*x\n",
        "  print(\"road_tax\",road_tax)\n",
        "else:\n",
        "  road_tax=0.15*x\n",
        "  print(\"road_tax\",road_tax)"
      ],
      "metadata": {
        "id": "VO8prlFR7UZO",
        "colab": {
          "base_uri": "https://localhost:8080/"
        },
        "outputId": "59ad01a7-192e-4356-f905-1fe5db5dd09a"
      },
      "execution_count": null,
      "outputs": [
        {
          "output_type": "stream",
          "name": "stdout",
          "text": [
            "cost of bike115000\n",
            "road_tax 17250.0\n"
          ]
        }
      ]
    },
    {
      "cell_type": "markdown",
      "source": [
        "Write a program to calculate the electricity bill by accepting the number of units consumed by the user as input. Use the following price chart for reference :-\n",
        "\n",
        "Price of first 100 units - no charge\n",
        "\n",
        "Price of next 100 units - Rs 5/- per unit\n",
        "\n",
        "After 200 units - Rs 10/- per unit"
      ],
      "metadata": {
        "id": "4qwB-dyV2vdv"
      }
    },
    {
      "cell_type": "code",
      "source": [
        "x=float(input(\"enter units\"))\n",
        "if x<100:\n",
        "  print(\"price is zero\")\n",
        "elif 100<x<200:\n",
        "  bill=x*5\n",
        "  print(\"bill\",bill)\n",
        "else:\n",
        "  bill=x*10\n",
        "  print(\"bill\",bill)"
      ],
      "metadata": {
        "id": "rVFBgxbt7fFn",
        "colab": {
          "base_uri": "https://localhost:8080/"
        },
        "outputId": "688ca416-fcab-4e76-fb93-9ee4f275450c"
      },
      "execution_count": null,
      "outputs": [
        {
          "output_type": "stream",
          "name": "stdout",
          "text": [
            "enter units250\n",
            "bill 2500.0\n"
          ]
        }
      ]
    }
  ]
}