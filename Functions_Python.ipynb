{
  "nbformat": 4,
  "nbformat_minor": 0,
  "metadata": {
    "colab": {
      "provenance": [],
      "include_colab_link": true
    },
    "kernelspec": {
      "name": "python3",
      "display_name": "Python 3"
    },
    "language_info": {
      "name": "python"
    }
  },
  "cells": [
    {
      "cell_type": "markdown",
      "metadata": {
        "id": "view-in-github",
        "colab_type": "text"
      },
      "source": [
        "<a href=\"https://colab.research.google.com/github/Kishore192/python/blob/main/Functions_Python.ipynb\" target=\"_parent\"><img src=\"https://colab.research.google.com/assets/colab-badge.svg\" alt=\"Open In Colab\"/></a>"
      ]
    },
    {
      "cell_type": "markdown",
      "source": [
        "Define a function that accepts a number and returns whether the number is even or odd."
      ],
      "metadata": {
        "id": "SA0zwy1HTiK-"
      }
    },
    {
      "cell_type": "code",
      "source": [
        "def num (a):\n",
        "  if (a%2==0):\n",
        "    print(\"a is even\")\n",
        "  else:\n",
        "    print(\"a is odd\")"
      ],
      "metadata": {
        "id": "QYp14SD5p2cw"
      },
      "execution_count": null,
      "outputs": []
    },
    {
      "cell_type": "code",
      "source": [
        "num(100)"
      ],
      "metadata": {
        "colab": {
          "base_uri": "https://localhost:8080/"
        },
        "id": "OrbXel4g2Sz1",
        "outputId": "4875f5cb-ae8b-48e6-eb28-dbcbc8174d19"
      },
      "execution_count": null,
      "outputs": [
        {
          "output_type": "stream",
          "name": "stdout",
          "text": [
            "a is even\n"
          ]
        }
      ]
    },
    {
      "cell_type": "code",
      "source": [
        "num(99)"
      ],
      "metadata": {
        "colab": {
          "base_uri": "https://localhost:8080/"
        },
        "id": "Dvd4kiTlEAbx",
        "outputId": "09fe2ac9-4be0-4f4f-d4a4-0cec8b5c9c81"
      },
      "execution_count": null,
      "outputs": [
        {
          "output_type": "stream",
          "name": "stdout",
          "text": [
            "a is odd\n"
          ]
        }
      ]
    },
    {
      "cell_type": "markdown",
      "source": [
        "Define a function to create and print a list where the values are square of numbers between 1 and 30 (both included)."
      ],
      "metadata": {
        "id": "eFB9qeBSTxRd"
      }
    },
    {
      "cell_type": "code",
      "source": [
        "def compute(a,b):\n",
        " l1=[]\n",
        " for i in range(1,31):\n",
        "  l1.append((i**2))\n",
        "\n",
        " print(l1)"
      ],
      "metadata": {
        "id": "xoZ8le6R3zmW"
      },
      "execution_count": null,
      "outputs": []
    },
    {
      "cell_type": "code",
      "source": [
        "compute(1,31)"
      ],
      "metadata": {
        "colab": {
          "base_uri": "https://localhost:8080/"
        },
        "id": "MuphPCR04cQv",
        "outputId": "7abc4699-d582-4dbf-eff9-967cb059604b"
      },
      "execution_count": null,
      "outputs": [
        {
          "output_type": "stream",
          "name": "stdout",
          "text": [
            "[1, 4, 9, 16, 25, 36, 49, 64, 81, 100, 121, 144, 169, 196, 225, 256, 289, 324, 361, 400, 441, 484, 529, 576, 625, 676, 729, 784, 841, 900]\n"
          ]
        }
      ]
    },
    {
      "cell_type": "markdown",
      "source": [
        "Define a function, shut_down, that takes one parameter. Then, if the shut_down function receives a value equal to \"yes\", it should print \"Shutting down\". Alternatively, if vallue is equal to \"no\", then the function should print \"Shutdown aborted\". Finally, if shut_down gets anything other than those inputs, the function should print \"Sorry\"."
      ],
      "metadata": {
        "id": "WPKsEW0dUIZF"
      }
    },
    {
      "cell_type": "code",
      "source": [
        "def shut_down(a=str):\n",
        " if (a==\"yes\")or(a==\"YES\"):\n",
        "   print(\"shutting down\")\n",
        " elif (a==\"no\") or (a==\"NO\"):\n",
        "   print(\"shutting aborted\")\n",
        " else:\n",
        "   print(\"sorry\")"
      ],
      "metadata": {
        "id": "BErvgTSlp4BA"
      },
      "execution_count": null,
      "outputs": []
    },
    {
      "cell_type": "code",
      "source": [
        "shut_down(\"yes\")"
      ],
      "metadata": {
        "colab": {
          "base_uri": "https://localhost:8080/"
        },
        "id": "b0gAauIa67O2",
        "outputId": "fb0e6495-a696-482e-cbdb-c6e212d59125"
      },
      "execution_count": null,
      "outputs": [
        {
          "output_type": "stream",
          "name": "stdout",
          "text": [
            "shutting down\n"
          ]
        }
      ]
    },
    {
      "cell_type": "code",
      "source": [
        "shut_down(\"no\")"
      ],
      "metadata": {
        "colab": {
          "base_uri": "https://localhost:8080/"
        },
        "id": "gCkLqI_2EPgh",
        "outputId": "c1806c41-c36e-47da-ccc3-fb3b79314bdc"
      },
      "execution_count": null,
      "outputs": [
        {
          "output_type": "stream",
          "name": "stdout",
          "text": [
            "shutting aborted\n"
          ]
        }
      ]
    },
    {
      "cell_type": "markdown",
      "source": [
        " \n",
        "\n",
        "Define a function called \"by_three\" that takes a parameter called number. If that number is divisible by 3, \"by_three\" should print the cube of the number. Otherwise, by_three should print False."
      ],
      "metadata": {
        "id": "KosfqTW8Ur_1"
      }
    },
    {
      "cell_type": "code",
      "source": [
        "def by_three(a):\n",
        "  if (a%3==0):\n",
        "    c=a**3\n",
        "    print(c)\n",
        "  else:\n",
        "    print(\"false\")"
      ],
      "metadata": {
        "id": "ma_rcX6sp4nW"
      },
      "execution_count": null,
      "outputs": []
    },
    {
      "cell_type": "code",
      "source": [
        "by_three(30)"
      ],
      "metadata": {
        "colab": {
          "base_uri": "https://localhost:8080/"
        },
        "id": "wLT-NBYKAOrv",
        "outputId": "17c032b5-c45b-4aac-a07f-19bcad64bcb0"
      },
      "execution_count": null,
      "outputs": [
        {
          "output_type": "stream",
          "name": "stdout",
          "text": [
            "27000\n"
          ]
        }
      ]
    },
    {
      "cell_type": "code",
      "source": [
        "by_three(31)"
      ],
      "metadata": {
        "colab": {
          "base_uri": "https://localhost:8080/"
        },
        "id": "Vodjq-3eEUpZ",
        "outputId": "40391751-0137-4cda-cdd8-16e8d985ee0b"
      },
      "execution_count": null,
      "outputs": [
        {
          "output_type": "stream",
          "name": "stdout",
          "text": [
            "false\n"
          ]
        }
      ]
    },
    {
      "cell_type": "markdown",
      "source": [
        "Define a function that takes a list and prints a new list with no duplicate elements given in the first list."
      ],
      "metadata": {
        "id": "EWbQXeU5WpdZ"
      }
    },
    {
      "cell_type": "code",
      "source": [
        " def my_list(l):\n",
        "   l2=[]\n",
        "   for i in l:\n",
        "     if i not in l2:\n",
        "       l2.append(i)\n",
        "   print(l2)"
      ],
      "metadata": {
        "id": "BAtCg5oY33BO"
      },
      "execution_count": null,
      "outputs": []
    },
    {
      "cell_type": "code",
      "source": [
        "my_list([1,2,5,5,9,6,7,7,8,4])"
      ],
      "metadata": {
        "id": "pmiCKiD6CLwc",
        "colab": {
          "base_uri": "https://localhost:8080/"
        },
        "outputId": "071cc1d2-b9b1-4622-bd52-cc0cb4c4fea0"
      },
      "execution_count": null,
      "outputs": [
        {
          "output_type": "stream",
          "name": "stdout",
          "text": [
            "[1, 2, 5, 9, 6, 7, 8, 4]\n"
          ]
        }
      ]
    }
  ]
}