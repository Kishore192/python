{
  "nbformat": 4,
  "nbformat_minor": 0,
  "metadata": {
    "colab": {
      "provenance": [],
      "include_colab_link": true
    },
    "kernelspec": {
      "name": "python3",
      "display_name": "Python 3"
    },
    "language_info": {
      "name": "python"
    }
  },
  "cells": [
    {
      "cell_type": "markdown",
      "metadata": {
        "id": "view-in-github",
        "colab_type": "text"
      },
      "source": [
        "<a href=\"https://colab.research.google.com/github/Kishore192/python/blob/main/Python_2.ipynb\" target=\"_parent\"><img src=\"https://colab.research.google.com/assets/colab-badge.svg\" alt=\"Open In Colab\"/></a>"
      ]
    },
    {
      "cell_type": "markdown",
      "source": [
        "Dictionary"
      ],
      "metadata": {
        "id": "n90Zrvu0fY1A"
      }
    },
    {
      "cell_type": "code",
      "execution_count": null,
      "metadata": {
        "id": "xttwh60rXHLJ"
      },
      "outputs": [],
      "source": [
        "att={1:'Aditya',2:'Chirag',3:'Kunal',4:'Suman'}"
      ]
    },
    {
      "cell_type": "code",
      "source": [
        "print(att)"
      ],
      "metadata": {
        "colab": {
          "base_uri": "https://localhost:8080/"
        },
        "id": "SfBuMkPgfj8k",
        "outputId": "4fa446c1-13a2-433b-89e6-c46642f99433"
      },
      "execution_count": null,
      "outputs": [
        {
          "output_type": "stream",
          "name": "stdout",
          "text": [
            "{1: 'Aditya', 2: 'Chirag', 3: 'Kunal', 4: 'Suman'}\n"
          ]
        }
      ]
    },
    {
      "cell_type": "code",
      "source": [
        "type(att)"
      ],
      "metadata": {
        "colab": {
          "base_uri": "https://localhost:8080/"
        },
        "id": "aSZURFR2fifj",
        "outputId": "42ff38da-a75c-4850-c658-3246a4831cef"
      },
      "execution_count": null,
      "outputs": [
        {
          "output_type": "execute_result",
          "data": {
            "text/plain": [
              "dict"
            ]
          },
          "metadata": {},
          "execution_count": 2
        }
      ]
    },
    {
      "cell_type": "code",
      "source": [
        "#adding new key value pair in the dict\n",
        "att[5]='Sheetal'"
      ],
      "metadata": {
        "id": "9A8MYcH6fjc_"
      },
      "execution_count": null,
      "outputs": []
    },
    {
      "cell_type": "code",
      "source": [
        "print(att)"
      ],
      "metadata": {
        "colab": {
          "base_uri": "https://localhost:8080/"
        },
        "id": "SDrv2dREgBWB",
        "outputId": "4f9ed818-337a-423a-d173-a7e11601256d"
      },
      "execution_count": null,
      "outputs": [
        {
          "output_type": "stream",
          "name": "stdout",
          "text": [
            "{1: 'Aditya', 2: 'Chirag', 3: 'Kunal', 4: 'Suman', 5: 'Sheetal'}\n"
          ]
        }
      ]
    },
    {
      "cell_type": "code",
      "source": [
        "att[6]='Zoya'"
      ],
      "metadata": {
        "id": "Z3yFqmGogCCQ"
      },
      "execution_count": null,
      "outputs": []
    },
    {
      "cell_type": "code",
      "source": [
        "print(att)"
      ],
      "metadata": {
        "colab": {
          "base_uri": "https://localhost:8080/"
        },
        "id": "Vh8gHuxxgIUo",
        "outputId": "864e24b7-6993-447c-8aab-aa704ddd3d2c"
      },
      "execution_count": null,
      "outputs": [
        {
          "output_type": "stream",
          "name": "stdout",
          "text": [
            "{1: 'Aditya', 2: 'Chirag', 3: 'Kunal', 4: 'Suman', 5: 'Sheetal', 6: 'Zoya'}\n"
          ]
        }
      ]
    },
    {
      "cell_type": "code",
      "source": [
        "#replacing value from the dictionary\n",
        "att[3]='Keshav'"
      ],
      "metadata": {
        "id": "dWunzvNfh6kV"
      },
      "execution_count": null,
      "outputs": []
    },
    {
      "cell_type": "code",
      "source": [
        "print(att)"
      ],
      "metadata": {
        "colab": {
          "base_uri": "https://localhost:8080/"
        },
        "id": "r4GYQrK3iFX3",
        "outputId": "3c624a18-b1fe-4778-f3e8-baf98c9d89bd"
      },
      "execution_count": null,
      "outputs": [
        {
          "output_type": "stream",
          "name": "stdout",
          "text": [
            "{1: 'Aditya', 2: 'Chirag', 3: 'Keshav', 4: 'Suman', 5: 'Sheetal', 6: 'Zoya'}\n"
          ]
        }
      ]
    },
    {
      "cell_type": "code",
      "source": [
        "att[2:5]"
      ],
      "metadata": {
        "colab": {
          "base_uri": "https://localhost:8080/",
          "height": 169
        },
        "id": "lXgSurW_hFlk",
        "outputId": "9cb78a4e-6ce1-4f15-eab3-06f3c0fe629b"
      },
      "execution_count": null,
      "outputs": [
        {
          "output_type": "error",
          "ename": "TypeError",
          "evalue": "ignored",
          "traceback": [
            "\u001b[0;31m---------------------------------------------------------------------------\u001b[0m",
            "\u001b[0;31mTypeError\u001b[0m                                 Traceback (most recent call last)",
            "\u001b[0;32m<ipython-input-11-818bf4ecc569>\u001b[0m in \u001b[0;36m<module>\u001b[0;34m\u001b[0m\n\u001b[0;32m----> 1\u001b[0;31m \u001b[0matt\u001b[0m\u001b[0;34m[\u001b[0m\u001b[0;36m2\u001b[0m\u001b[0;34m:\u001b[0m\u001b[0;36m5\u001b[0m\u001b[0;34m]\u001b[0m\u001b[0;34m\u001b[0m\u001b[0;34m\u001b[0m\u001b[0m\n\u001b[0m",
            "\u001b[0;31mTypeError\u001b[0m: unhashable type: 'slice'"
          ]
        }
      ]
    },
    {
      "cell_type": "markdown",
      "source": [
        "Note:\n",
        "\n",
        "In dictionary,we use name of the key to fetch one value at a time, as indexing and slicing are not supported "
      ],
      "metadata": {
        "id": "QV0_U-fOgd4E"
      }
    },
    {
      "cell_type": "code",
      "source": [
        "#fectching values from dictionary\n",
        "att[2] #here 2 is the key and not the index number "
      ],
      "metadata": {
        "colab": {
          "base_uri": "https://localhost:8080/",
          "height": 36
        },
        "id": "0r64UGf-gJJc",
        "outputId": "004faade-25f0-4988-c0b6-0b9a098aab8f"
      },
      "execution_count": null,
      "outputs": [
        {
          "output_type": "execute_result",
          "data": {
            "text/plain": [
              "'Chirag'"
            ],
            "application/vnd.google.colaboratory.intrinsic+json": {
              "type": "string"
            }
          },
          "metadata": {},
          "execution_count": 9
        }
      ]
    },
    {
      "cell_type": "code",
      "source": [
        "att[6]"
      ],
      "metadata": {
        "colab": {
          "base_uri": "https://localhost:8080/",
          "height": 36
        },
        "id": "7wI6yhtwgv2h",
        "outputId": "b4ec2639-6b9b-4b7b-c5bd-a97214114ae3"
      },
      "execution_count": null,
      "outputs": [
        {
          "output_type": "execute_result",
          "data": {
            "text/plain": [
              "'Zoya'"
            ],
            "application/vnd.google.colaboratory.intrinsic+json": {
              "type": "string"
            }
          },
          "metadata": {},
          "execution_count": 10
        }
      ]
    },
    {
      "cell_type": "code",
      "source": [
        "#delete existing key value pair \n",
        "del att[4] #key of the pair will be used to delete the entire key value pair"
      ],
      "metadata": {
        "id": "gZo2vQEEg7ZF"
      },
      "execution_count": null,
      "outputs": []
    },
    {
      "cell_type": "code",
      "source": [
        "print(att)"
      ],
      "metadata": {
        "colab": {
          "base_uri": "https://localhost:8080/"
        },
        "id": "COCc26uFieF0",
        "outputId": "6142fe0e-42a5-4783-92a8-ba4aa057db0b"
      },
      "execution_count": null,
      "outputs": [
        {
          "output_type": "stream",
          "name": "stdout",
          "text": [
            "{1: 'Aditya', 2: 'Chirag', 3: 'Keshav', 5: 'Sheetal', 6: 'Zoya'}\n"
          ]
        }
      ]
    },
    {
      "cell_type": "code",
      "source": [
        "del att[6]"
      ],
      "metadata": {
        "id": "hVWmA_5tifF-"
      },
      "execution_count": null,
      "outputs": []
    },
    {
      "cell_type": "code",
      "source": [
        "print(att)"
      ],
      "metadata": {
        "colab": {
          "base_uri": "https://localhost:8080/"
        },
        "id": "O8JMKKwTi2Lq",
        "outputId": "10cb054e-035b-4852-c50c-c2a78ad9e8be"
      },
      "execution_count": null,
      "outputs": [
        {
          "output_type": "stream",
          "name": "stdout",
          "text": [
            "{1: 'Aditya', 2: 'Chirag', 3: 'Keshav', 5: 'Sheetal'}\n"
          ]
        }
      ]
    },
    {
      "cell_type": "code",
      "source": [
        "memo={'pens':80,'cake':1000,'cold_drink':200,'chocolates':150}"
      ],
      "metadata": {
        "id": "FZAsf5QQi4MX"
      },
      "execution_count": null,
      "outputs": []
    },
    {
      "cell_type": "code",
      "source": [
        "print(memo)"
      ],
      "metadata": {
        "colab": {
          "base_uri": "https://localhost:8080/"
        },
        "id": "e2wrfA1xkMuf",
        "outputId": "8edecc11-5ab5-4e47-f354-b43a200d8567"
      },
      "execution_count": null,
      "outputs": [
        {
          "output_type": "stream",
          "name": "stdout",
          "text": [
            "{'pens': 80, 'cake': 1000, 'cold_drink': 200, 'chocolates': 150}\n"
          ]
        }
      ]
    },
    {
      "cell_type": "code",
      "source": [
        "memo['cold_drink']"
      ],
      "metadata": {
        "colab": {
          "base_uri": "https://localhost:8080/"
        },
        "id": "PUo11KG1kTfQ",
        "outputId": "0f3124c5-ca42-4ae4-ebd1-3d4a597f2841"
      },
      "execution_count": null,
      "outputs": [
        {
          "output_type": "execute_result",
          "data": {
            "text/plain": [
              "200"
            ]
          },
          "metadata": {},
          "execution_count": 21
        }
      ]
    },
    {
      "cell_type": "code",
      "source": [
        "memo['cake']"
      ],
      "metadata": {
        "colab": {
          "base_uri": "https://localhost:8080/"
        },
        "id": "ZXW_Vt4pkZXN",
        "outputId": "b10c3897-13ff-49e3-ea33-2d380628ed66"
      },
      "execution_count": null,
      "outputs": [
        {
          "output_type": "execute_result",
          "data": {
            "text/plain": [
              "1000"
            ]
          },
          "metadata": {},
          "execution_count": 22
        }
      ]
    },
    {
      "cell_type": "code",
      "source": [
        "memo['notebook']=90"
      ],
      "metadata": {
        "id": "A0tcZR3EkdyA"
      },
      "execution_count": null,
      "outputs": []
    },
    {
      "cell_type": "code",
      "source": [
        "print(memo)"
      ],
      "metadata": {
        "colab": {
          "base_uri": "https://localhost:8080/"
        },
        "id": "o2pOHUU5k0RL",
        "outputId": "a20585de-2dce-41d8-dbd8-4825d8768119"
      },
      "execution_count": null,
      "outputs": [
        {
          "output_type": "stream",
          "name": "stdout",
          "text": [
            "{'pens': 80, 'cake': 1000, 'cold_drink': 200, 'chocolates': 150, 'notebook': 90}\n"
          ]
        }
      ]
    },
    {
      "cell_type": "code",
      "source": [
        "del memo['cake']"
      ],
      "metadata": {
        "id": "tuFunI7sk2GF"
      },
      "execution_count": null,
      "outputs": []
    },
    {
      "cell_type": "code",
      "source": [
        "print(memo)"
      ],
      "metadata": {
        "colab": {
          "base_uri": "https://localhost:8080/"
        },
        "id": "O0uvieXkk90O",
        "outputId": "39175d14-0aa4-4fae-dc13-9b8f8da660ed"
      },
      "execution_count": null,
      "outputs": [
        {
          "output_type": "stream",
          "name": "stdout",
          "text": [
            "{'pens': 80, 'cold_drink': 200, 'chocolates': 150, 'notebook': 90}\n"
          ]
        }
      ]
    },
    {
      "cell_type": "code",
      "source": [
        "memo.pop('pens')"
      ],
      "metadata": {
        "colab": {
          "base_uri": "https://localhost:8080/"
        },
        "id": "_D9p9U8qk_cI",
        "outputId": "64821bf4-9479-48fc-a49d-8a065bf58f59"
      },
      "execution_count": null,
      "outputs": [
        {
          "output_type": "execute_result",
          "data": {
            "text/plain": [
              "80"
            ]
          },
          "metadata": {},
          "execution_count": 27
        }
      ]
    },
    {
      "cell_type": "code",
      "source": [
        "print(memo)"
      ],
      "metadata": {
        "colab": {
          "base_uri": "https://localhost:8080/"
        },
        "id": "a9mVzv8yllya",
        "outputId": "a7bafde0-4570-43f2-bb12-28d84a0a10ef"
      },
      "execution_count": null,
      "outputs": [
        {
          "output_type": "stream",
          "name": "stdout",
          "text": [
            "{'cold_drink': 200, 'chocolates': 150, 'notebook': 90}\n"
          ]
        }
      ]
    },
    {
      "cell_type": "code",
      "source": [
        "memo['chocolates']=500"
      ],
      "metadata": {
        "id": "9LBcCxxLl9JF"
      },
      "execution_count": null,
      "outputs": []
    },
    {
      "cell_type": "code",
      "source": [
        "print(memo)"
      ],
      "metadata": {
        "colab": {
          "base_uri": "https://localhost:8080/"
        },
        "id": "bH3jPN8nmBtv",
        "outputId": "c04f5ad4-5376-4c48-9dd3-52948d024b29"
      },
      "execution_count": null,
      "outputs": [
        {
          "output_type": "stream",
          "name": "stdout",
          "text": [
            "{'cold_drink': 200, 'chocolates': 500, 'notebook': 90}\n"
          ]
        }
      ]
    },
    {
      "cell_type": "markdown",
      "source": [
        "Create a dictionary which contains the following data : name: Bob, occupation: Builder, city:NewYork, salary:20000\n",
        "\n",
        "1. add a new key value pair - age:30\n",
        "2. replace salary as 40000\n",
        "3. delete occupation\n",
        "4. fetch city of Bob"
      ],
      "metadata": {
        "id": "4KRSUqHWmM2a"
      }
    },
    {
      "cell_type": "code",
      "source": [],
      "metadata": {
        "id": "_QqlRVNAmCsx"
      },
      "execution_count": null,
      "outputs": []
    },
    {
      "cell_type": "markdown",
      "source": [
        "Tuple"
      ],
      "metadata": {
        "id": "clXur_xnouUu"
      }
    },
    {
      "cell_type": "code",
      "source": [
        "t=('India',34,56,9.7,-2.8,'USA','Charlie')"
      ],
      "metadata": {
        "id": "BH5-caXSowAa"
      },
      "execution_count": null,
      "outputs": []
    },
    {
      "cell_type": "code",
      "source": [
        "print(t)"
      ],
      "metadata": {
        "colab": {
          "base_uri": "https://localhost:8080/"
        },
        "id": "3C2Yv04LtO1-",
        "outputId": "43a36727-8808-49cf-b019-64bebfc4a339"
      },
      "execution_count": null,
      "outputs": [
        {
          "output_type": "stream",
          "name": "stdout",
          "text": [
            "('India', 34, 56, 9.7, -2.8, 'USA', 'Charlie')\n"
          ]
        }
      ]
    },
    {
      "cell_type": "code",
      "source": [
        "type(t)"
      ],
      "metadata": {
        "colab": {
          "base_uri": "https://localhost:8080/"
        },
        "id": "Byto4K8ftUSS",
        "outputId": "dd136146-734f-48c1-eb10-acb0312f18c1"
      },
      "execution_count": null,
      "outputs": [
        {
          "output_type": "execute_result",
          "data": {
            "text/plain": [
              "tuple"
            ]
          },
          "metadata": {},
          "execution_count": 37
        }
      ]
    },
    {
      "cell_type": "code",
      "source": [
        "t[5]"
      ],
      "metadata": {
        "colab": {
          "base_uri": "https://localhost:8080/",
          "height": 36
        },
        "id": "nuoCulFrtgVQ",
        "outputId": "899cbeb6-097e-410d-db16-a616c12400ea"
      },
      "execution_count": null,
      "outputs": [
        {
          "output_type": "execute_result",
          "data": {
            "text/plain": [
              "'USA'"
            ],
            "application/vnd.google.colaboratory.intrinsic+json": {
              "type": "string"
            }
          },
          "metadata": {},
          "execution_count": 39
        }
      ]
    },
    {
      "cell_type": "code",
      "source": [
        "t[2:5]"
      ],
      "metadata": {
        "colab": {
          "base_uri": "https://localhost:8080/"
        },
        "id": "x9OiuGwGtpMX",
        "outputId": "5df01777-8fe5-4052-93db-0baafbf622ab"
      },
      "execution_count": null,
      "outputs": [
        {
          "output_type": "execute_result",
          "data": {
            "text/plain": [
              "(56, 9.7, -2.8)"
            ]
          },
          "metadata": {},
          "execution_count": 40
        }
      ]
    },
    {
      "cell_type": "code",
      "source": [
        "t[5:]"
      ],
      "metadata": {
        "colab": {
          "base_uri": "https://localhost:8080/"
        },
        "id": "pw3tCrRPtrSX",
        "outputId": "3d4fc425-c8c1-41de-a089-b9b833d3146e"
      },
      "execution_count": null,
      "outputs": [
        {
          "output_type": "execute_result",
          "data": {
            "text/plain": [
              "('USA', 'Charlie')"
            ]
          },
          "metadata": {},
          "execution_count": 41
        }
      ]
    },
    {
      "cell_type": "code",
      "source": [
        "t[3]"
      ],
      "metadata": {
        "colab": {
          "base_uri": "https://localhost:8080/"
        },
        "id": "XeJo286xtWIY",
        "outputId": "ca71005e-1a5b-4d80-e484-648fc0abc47e"
      },
      "execution_count": null,
      "outputs": [
        {
          "output_type": "execute_result",
          "data": {
            "text/plain": [
              "9.7"
            ]
          },
          "metadata": {},
          "execution_count": 38
        }
      ]
    },
    {
      "cell_type": "code",
      "source": [
        "t[0]='China'"
      ],
      "metadata": {
        "colab": {
          "base_uri": "https://localhost:8080/",
          "height": 169
        },
        "id": "JCf1ucXMte-v",
        "outputId": "5431d2c5-06fc-41b8-eafb-9a196163fdfe"
      },
      "execution_count": null,
      "outputs": [
        {
          "output_type": "error",
          "ename": "TypeError",
          "evalue": "ignored",
          "traceback": [
            "\u001b[0;31m---------------------------------------------------------------------------\u001b[0m",
            "\u001b[0;31mTypeError\u001b[0m                                 Traceback (most recent call last)",
            "\u001b[0;32m<ipython-input-42-2d601d8edac5>\u001b[0m in \u001b[0;36m<module>\u001b[0;34m\u001b[0m\n\u001b[0;32m----> 1\u001b[0;31m \u001b[0mt\u001b[0m\u001b[0;34m[\u001b[0m\u001b[0;36m0\u001b[0m\u001b[0;34m]\u001b[0m\u001b[0;34m=\u001b[0m\u001b[0;34m'China'\u001b[0m\u001b[0;34m\u001b[0m\u001b[0;34m\u001b[0m\u001b[0m\n\u001b[0m",
            "\u001b[0;31mTypeError\u001b[0m: 'tuple' object does not support item assignment"
          ]
        }
      ]
    },
    {
      "cell_type": "markdown",
      "source": [
        "Sets"
      ],
      "metadata": {
        "id": "K97a9C9WvW04"
      }
    },
    {
      "cell_type": "code",
      "source": [
        "s={'India', 34, 56, 9.7, -2.8, 'USA', 'Charlie'}"
      ],
      "metadata": {
        "id": "ZElbLnzet1ga"
      },
      "execution_count": null,
      "outputs": []
    },
    {
      "cell_type": "code",
      "source": [
        "type(s)"
      ],
      "metadata": {
        "colab": {
          "base_uri": "https://localhost:8080/"
        },
        "id": "lCMkodzmvcTU",
        "outputId": "e55f3e44-2886-4736-da5c-b4dc51b71df6"
      },
      "execution_count": null,
      "outputs": [
        {
          "output_type": "execute_result",
          "data": {
            "text/plain": [
              "set"
            ]
          },
          "metadata": {},
          "execution_count": 44
        }
      ]
    },
    {
      "cell_type": "code",
      "source": [
        "print(s)"
      ],
      "metadata": {
        "colab": {
          "base_uri": "https://localhost:8080/"
        },
        "id": "VasDgKtvveW0",
        "outputId": "b3a09e8e-8597-4a91-bae5-4ce3db081418"
      },
      "execution_count": null,
      "outputs": [
        {
          "output_type": "stream",
          "name": "stdout",
          "text": [
            "{34, 'India', 9.7, 'Charlie', 'USA', 56, -2.8}\n"
          ]
        }
      ]
    },
    {
      "cell_type": "code",
      "source": [
        "s[1]"
      ],
      "metadata": {
        "colab": {
          "base_uri": "https://localhost:8080/",
          "height": 169
        },
        "id": "9WumrjNivqs2",
        "outputId": "07d15573-83f9-4fe2-f501-6c8641dca862"
      },
      "execution_count": null,
      "outputs": [
        {
          "output_type": "error",
          "ename": "TypeError",
          "evalue": "ignored",
          "traceback": [
            "\u001b[0;31m---------------------------------------------------------------------------\u001b[0m",
            "\u001b[0;31mTypeError\u001b[0m                                 Traceback (most recent call last)",
            "\u001b[0;32m<ipython-input-46-f8bb2b116405>\u001b[0m in \u001b[0;36m<module>\u001b[0;34m\u001b[0m\n\u001b[0;32m----> 1\u001b[0;31m \u001b[0ms\u001b[0m\u001b[0;34m[\u001b[0m\u001b[0;36m1\u001b[0m\u001b[0;34m]\u001b[0m\u001b[0;34m\u001b[0m\u001b[0;34m\u001b[0m\u001b[0m\n\u001b[0m",
            "\u001b[0;31mTypeError\u001b[0m: 'set' object is not subscriptable"
          ]
        }
      ]
    },
    {
      "cell_type": "code",
      "source": [
        "s[1:4]"
      ],
      "metadata": {
        "colab": {
          "base_uri": "https://localhost:8080/",
          "height": 169
        },
        "id": "vxjWtAm3v6pm",
        "outputId": "18b54469-9570-4c38-8287-a138982e09e3"
      },
      "execution_count": null,
      "outputs": [
        {
          "output_type": "error",
          "ename": "TypeError",
          "evalue": "ignored",
          "traceback": [
            "\u001b[0;31m---------------------------------------------------------------------------\u001b[0m",
            "\u001b[0;31mTypeError\u001b[0m                                 Traceback (most recent call last)",
            "\u001b[0;32m<ipython-input-47-9dedd7e073ac>\u001b[0m in \u001b[0;36m<module>\u001b[0;34m\u001b[0m\n\u001b[0;32m----> 1\u001b[0;31m \u001b[0ms\u001b[0m\u001b[0;34m[\u001b[0m\u001b[0;36m1\u001b[0m\u001b[0;34m:\u001b[0m\u001b[0;36m4\u001b[0m\u001b[0;34m]\u001b[0m\u001b[0;34m\u001b[0m\u001b[0;34m\u001b[0m\u001b[0m\n\u001b[0m",
            "\u001b[0;31mTypeError\u001b[0m: 'set' object is not subscriptable"
          ]
        }
      ]
    },
    {
      "cell_type": "code",
      "source": [
        "s[0]='china'"
      ],
      "metadata": {
        "colab": {
          "base_uri": "https://localhost:8080/",
          "height": 169
        },
        "id": "Xcu4zjyXv-hP",
        "outputId": "ee172dd6-1142-4b6a-825f-331aa976a703"
      },
      "execution_count": null,
      "outputs": [
        {
          "output_type": "error",
          "ename": "TypeError",
          "evalue": "ignored",
          "traceback": [
            "\u001b[0;31m---------------------------------------------------------------------------\u001b[0m",
            "\u001b[0;31mTypeError\u001b[0m                                 Traceback (most recent call last)",
            "\u001b[0;32m<ipython-input-48-42f0619ccf0a>\u001b[0m in \u001b[0;36m<module>\u001b[0;34m\u001b[0m\n\u001b[0;32m----> 1\u001b[0;31m \u001b[0ms\u001b[0m\u001b[0;34m[\u001b[0m\u001b[0;36m0\u001b[0m\u001b[0;34m]\u001b[0m\u001b[0;34m=\u001b[0m\u001b[0;34m'china'\u001b[0m\u001b[0;34m\u001b[0m\u001b[0;34m\u001b[0m\u001b[0m\n\u001b[0m",
            "\u001b[0;31mTypeError\u001b[0m: 'set' object does not support item assignment"
          ]
        }
      ]
    },
    {
      "cell_type": "markdown",
      "source": [
        "Nested Lists"
      ],
      "metadata": {
        "id": "XCoqoXeXxYLZ"
      }
    },
    {
      "cell_type": "code",
      "source": [
        "l1=['India','China','Russia',['Mango','Banana','Apple','Grapes']]"
      ],
      "metadata": {
        "id": "iz3aMFObwCID"
      },
      "execution_count": null,
      "outputs": []
    },
    {
      "cell_type": "code",
      "source": [
        "a=l1[0:3]"
      ],
      "metadata": {
        "id": "kBSWbOJb22g-"
      },
      "execution_count": null,
      "outputs": []
    },
    {
      "cell_type": "code",
      "source": [
        "b=l1[3][0:2]"
      ],
      "metadata": {
        "id": "cdqyuQiD27IZ"
      },
      "execution_count": null,
      "outputs": []
    },
    {
      "cell_type": "code",
      "source": [
        "print(a+b)"
      ],
      "metadata": {
        "colab": {
          "base_uri": "https://localhost:8080/"
        },
        "id": "pcqc62qL2-a3",
        "outputId": "33bf1ad0-bdd7-44a0-ba1c-1b45a676b247"
      },
      "execution_count": null,
      "outputs": [
        {
          "output_type": "stream",
          "name": "stdout",
          "text": [
            "['India', 'China', 'Russia', 'Mango', 'Banana']\n"
          ]
        }
      ]
    },
    {
      "cell_type": "code",
      "source": [
        "l1[2]"
      ],
      "metadata": {
        "colab": {
          "base_uri": "https://localhost:8080/",
          "height": 36
        },
        "id": "1FgYWeQ81Ml-",
        "outputId": "7c6b7a58-86e6-48ff-c0dc-f13700e40cd8"
      },
      "execution_count": null,
      "outputs": [
        {
          "output_type": "execute_result",
          "data": {
            "text/plain": [
              "'Russia'"
            ],
            "application/vnd.google.colaboratory.intrinsic+json": {
              "type": "string"
            }
          },
          "metadata": {},
          "execution_count": 50
        }
      ]
    },
    {
      "cell_type": "code",
      "source": [
        "l1[3][0]"
      ],
      "metadata": {
        "colab": {
          "base_uri": "https://localhost:8080/",
          "height": 36
        },
        "id": "zGS12W5W1PGv",
        "outputId": "2bfb2f66-a91f-465b-f30e-76120398c27a"
      },
      "execution_count": null,
      "outputs": [
        {
          "output_type": "execute_result",
          "data": {
            "text/plain": [
              "'Mango'"
            ],
            "application/vnd.google.colaboratory.intrinsic+json": {
              "type": "string"
            }
          },
          "metadata": {},
          "execution_count": 51
        }
      ]
    },
    {
      "cell_type": "code",
      "source": [
        "l1[3][0:3]"
      ],
      "metadata": {
        "colab": {
          "base_uri": "https://localhost:8080/"
        },
        "id": "f9KYiyuO1SYV",
        "outputId": "e462e2a7-3d1d-45c0-ddaa-2103aeb77162"
      },
      "execution_count": null,
      "outputs": [
        {
          "output_type": "execute_result",
          "data": {
            "text/plain": [
              "['Mango', 'Banana', 'Apple']"
            ]
          },
          "metadata": {},
          "execution_count": 55
        }
      ]
    },
    {
      "cell_type": "markdown",
      "source": [
        "CONDITIONAL STATEMENTS or CONTROL FLOW"
      ],
      "metadata": {
        "id": "Rx-6-Fsz3ZnB"
      }
    },
    {
      "cell_type": "markdown",
      "source": [
        "Take two numbers x and y as input from the user and check whether x is greater or y is greater"
      ],
      "metadata": {
        "id": "-EwFAf9V_3eT"
      }
    },
    {
      "cell_type": "code",
      "source": [
        "x=int(input(\"enter value for x\"))\n",
        "y=int(input(\"enter value for y\"))\n",
        "\n",
        "if x>y:\n",
        "  print(\"x is greater\")\n",
        "\n",
        "elif x==y:\n",
        "  print(\"both the values are equal\")\n",
        "  \n",
        "else:\n",
        "  print(\"y is greater\")"
      ],
      "metadata": {
        "colab": {
          "base_uri": "https://localhost:8080/"
        },
        "id": "dT88X2Jd1Vqu",
        "outputId": "111d1ff8-b607-469d-c994-60526eaf0890"
      },
      "execution_count": null,
      "outputs": [
        {
          "output_type": "stream",
          "name": "stdout",
          "text": [
            "enter value for x10\n",
            "enter value for y10\n",
            "both the values are equal\n"
          ]
        }
      ]
    },
    {
      "cell_type": "markdown",
      "source": [
        "Take age as input from the user and check if the person is eligible for voting or not (provided voting age is 18 years or more)"
      ],
      "metadata": {
        "id": "A7qP0b68BJNL"
      }
    },
    {
      "cell_type": "code",
      "source": [
        "age=int(input(\"enter value for age\"))\n",
        "\n",
        "if age>=18:\n",
        "  print(\"eligible for voting\")\n",
        "\n",
        "else:\n",
        "  print(\"not eligible for voting\")"
      ],
      "metadata": {
        "colab": {
          "base_uri": "https://localhost:8080/"
        },
        "id": "JtDn1ZwsAKLY",
        "outputId": "24a8e67d-3d0c-4423-9ec0-c2e87cc9803f"
      },
      "execution_count": null,
      "outputs": [
        {
          "output_type": "stream",
          "name": "stdout",
          "text": [
            "enter value for age18\n",
            "eligible for voting\n"
          ]
        }
      ]
    },
    {
      "cell_type": "markdown",
      "source": [
        "Take lenght and breadth of a rectange as input from the user and check if the rectange is a square"
      ],
      "metadata": {
        "id": "oEMfRI7rCJgr"
      }
    },
    {
      "cell_type": "code",
      "source": [
        "length=int(input(\"enter value for length\"))\n",
        "breadth=int(input(\"enter value for breadth\"))\n",
        "\n",
        "if length==breadth:\n",
        "  print(\"the rectange is a square\")\n",
        "\n",
        "else:\n",
        "  print(\"rectange is not a square\")"
      ],
      "metadata": {
        "colab": {
          "base_uri": "https://localhost:8080/"
        },
        "id": "X9_wQLWPCRNA",
        "outputId": "7d172b75-0490-42df-d7ad-052fc60f8f68"
      },
      "execution_count": null,
      "outputs": [
        {
          "output_type": "stream",
          "name": "stdout",
          "text": [
            "enter value for length50\n",
            "enter value for breadth50\n",
            "the rectange is a square\n"
          ]
        }
      ]
    },
    {
      "cell_type": "code",
      "source": [],
      "metadata": {
        "id": "meEwlYoqEP2N"
      },
      "execution_count": null,
      "outputs": []
    }
  ]
}