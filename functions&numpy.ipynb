{
  "nbformat": 4,
  "nbformat_minor": 0,
  "metadata": {
    "colab": {
      "provenance": [],
      "include_colab_link": true
    },
    "kernelspec": {
      "name": "python3",
      "display_name": "Python 3"
    },
    "language_info": {
      "name": "python"
    }
  },
  "cells": [
    {
      "cell_type": "markdown",
      "metadata": {
        "id": "view-in-github",
        "colab_type": "text"
      },
      "source": [
        "<a href=\"https://colab.research.google.com/github/Kishore192/python/blob/main/functions%26numpy.ipynb\" target=\"_parent\"><img src=\"https://colab.research.google.com/assets/colab-badge.svg\" alt=\"Open In Colab\"/></a>"
      ]
    },
    {
      "cell_type": "markdown",
      "source": [
        "Create a function to accept two numbers as input from the user and display the summation of the numbers"
      ],
      "metadata": {
        "id": "bnpP17HCm4Dz"
      }
    },
    {
      "cell_type": "code",
      "execution_count": null,
      "metadata": {
        "id": "iOCUWPzvd2H3"
      },
      "outputs": [],
      "source": [
        "def sum(a,b):\n",
        "\n",
        "  c=a+b\n",
        "\n",
        "  print(c)"
      ]
    },
    {
      "cell_type": "code",
      "source": [
        "sum(10,20)"
      ],
      "metadata": {
        "colab": {
          "base_uri": "https://localhost:8080/"
        },
        "id": "aQwi-0O2nIBv",
        "outputId": "f827740a-912b-4a81-e06d-89a5bca8ea98"
      },
      "execution_count": null,
      "outputs": [
        {
          "output_type": "stream",
          "name": "stdout",
          "text": [
            "30\n"
          ]
        }
      ]
    },
    {
      "cell_type": "code",
      "source": [
        "sum(-10,-9)"
      ],
      "metadata": {
        "colab": {
          "base_uri": "https://localhost:8080/"
        },
        "id": "YCyJ79ajnLKa",
        "outputId": "67f1189d-0c80-4b5c-f1ff-7e23d3aea2dd"
      },
      "execution_count": null,
      "outputs": [
        {
          "output_type": "stream",
          "name": "stdout",
          "text": [
            "-19\n"
          ]
        }
      ]
    },
    {
      "cell_type": "code",
      "source": [
        "sum(4,8)"
      ],
      "metadata": {
        "colab": {
          "base_uri": "https://localhost:8080/"
        },
        "id": "ZUki6cmFnNxI",
        "outputId": "f3c00880-3b7d-476b-b824-3616f9237cef"
      },
      "execution_count": null,
      "outputs": [
        {
          "output_type": "stream",
          "name": "stdout",
          "text": [
            "12\n"
          ]
        }
      ]
    },
    {
      "cell_type": "code",
      "source": [
        "sum(-7,9)"
      ],
      "metadata": {
        "colab": {
          "base_uri": "https://localhost:8080/"
        },
        "id": "yRRdl2fbnPPn",
        "outputId": "87f041ae-8a87-4797-9374-04103ec57225"
      },
      "execution_count": null,
      "outputs": [
        {
          "output_type": "stream",
          "name": "stdout",
          "text": [
            "2\n"
          ]
        }
      ]
    },
    {
      "cell_type": "code",
      "source": [
        "sum(10,20,45)"
      ],
      "metadata": {
        "colab": {
          "base_uri": "https://localhost:8080/",
          "height": 169
        },
        "id": "gk7qobmUoaHZ",
        "outputId": "bdcccacd-ba08-4f18-a094-81feab31159d"
      },
      "execution_count": null,
      "outputs": [
        {
          "output_type": "error",
          "ename": "TypeError",
          "evalue": "ignored",
          "traceback": [
            "\u001b[0;31m---------------------------------------------------------------------------\u001b[0m",
            "\u001b[0;31mTypeError\u001b[0m                                 Traceback (most recent call last)",
            "\u001b[0;32m<ipython-input-8-da869fd534c2>\u001b[0m in \u001b[0;36m<module>\u001b[0;34m\u001b[0m\n\u001b[0;32m----> 1\u001b[0;31m \u001b[0msum\u001b[0m\u001b[0;34m(\u001b[0m\u001b[0;36m10\u001b[0m\u001b[0;34m,\u001b[0m\u001b[0;36m20\u001b[0m\u001b[0;34m,\u001b[0m\u001b[0;36m45\u001b[0m\u001b[0;34m)\u001b[0m\u001b[0;34m\u001b[0m\u001b[0;34m\u001b[0m\u001b[0m\n\u001b[0m",
            "\u001b[0;31mTypeError\u001b[0m: sum() takes 2 positional arguments but 3 were given"
          ]
        }
      ]
    },
    {
      "cell_type": "code",
      "source": [
        "sum(10)"
      ],
      "metadata": {
        "colab": {
          "base_uri": "https://localhost:8080/",
          "height": 169
        },
        "id": "mFHK96tfopOw",
        "outputId": "9a2de408-57ef-4caa-e75b-d20876046672"
      },
      "execution_count": null,
      "outputs": [
        {
          "output_type": "error",
          "ename": "TypeError",
          "evalue": "ignored",
          "traceback": [
            "\u001b[0;31m---------------------------------------------------------------------------\u001b[0m",
            "\u001b[0;31mTypeError\u001b[0m                                 Traceback (most recent call last)",
            "\u001b[0;32m<ipython-input-9-e86a74b26fb4>\u001b[0m in \u001b[0;36m<module>\u001b[0;34m\u001b[0m\n\u001b[0;32m----> 1\u001b[0;31m \u001b[0msum\u001b[0m\u001b[0;34m(\u001b[0m\u001b[0;36m10\u001b[0m\u001b[0;34m)\u001b[0m\u001b[0;34m\u001b[0m\u001b[0;34m\u001b[0m\u001b[0m\n\u001b[0m",
            "\u001b[0;31mTypeError\u001b[0m: sum() missing 1 required positional argument: 'b'"
          ]
        }
      ]
    },
    {
      "cell_type": "code",
      "source": [
        "def add(a,b,c):\n",
        "  e=a+b+c\n",
        "  print(e)"
      ],
      "metadata": {
        "id": "7rOYFw7Ao3iw"
      },
      "execution_count": null,
      "outputs": []
    },
    {
      "cell_type": "code",
      "source": [
        "add(4,5,7)"
      ],
      "metadata": {
        "colab": {
          "base_uri": "https://localhost:8080/"
        },
        "id": "SYRplAdmo79q",
        "outputId": "88338984-b796-4c64-80a4-5550365a84c5"
      },
      "execution_count": null,
      "outputs": [
        {
          "output_type": "stream",
          "name": "stdout",
          "text": [
            "16\n"
          ]
        }
      ]
    },
    {
      "cell_type": "code",
      "source": [
        "add(-5,6,9)"
      ],
      "metadata": {
        "colab": {
          "base_uri": "https://localhost:8080/"
        },
        "id": "C5Z2oSnWo-QY",
        "outputId": "847e039b-fbc6-4dc0-f5fd-105230801c02"
      },
      "execution_count": null,
      "outputs": [
        {
          "output_type": "stream",
          "name": "stdout",
          "text": [
            "10\n"
          ]
        }
      ]
    },
    {
      "cell_type": "markdown",
      "source": [
        "Create a function to accept two numbers as input from the user and display the float division of the numbers"
      ],
      "metadata": {
        "id": "GokbtPlAnnFS"
      }
    },
    {
      "cell_type": "code",
      "source": [
        "def div(a,b):\n",
        "  c=a/b\n",
        "  print(c)"
      ],
      "metadata": {
        "id": "tbt7WCi5nQyD"
      },
      "execution_count": null,
      "outputs": []
    },
    {
      "cell_type": "code",
      "source": [
        "div(10,2)"
      ],
      "metadata": {
        "colab": {
          "base_uri": "https://localhost:8080/"
        },
        "id": "gtQUkyv7oLAe",
        "outputId": "4b25efc8-0ffb-417b-f53f-0c3f71e3d5cd"
      },
      "execution_count": null,
      "outputs": [
        {
          "output_type": "stream",
          "name": "stdout",
          "text": [
            "5.0\n"
          ]
        }
      ]
    },
    {
      "cell_type": "markdown",
      "source": [
        "Create a function to accept two numbers as input from the user and display the summation, subtraction, multiplication and division of the numbers"
      ],
      "metadata": {
        "id": "Q86R7UNapDZ-"
      }
    },
    {
      "cell_type": "code",
      "source": [
        "def compute(p,q):\n",
        "  e=p+q\n",
        "  f=p-q\n",
        "  g=p*q\n",
        "  h=p/q\n",
        "\n",
        "  print(e,f,g,h)"
      ],
      "metadata": {
        "id": "2nENaQLUoMMa"
      },
      "execution_count": null,
      "outputs": []
    },
    {
      "cell_type": "code",
      "source": [
        "compute(12,10)"
      ],
      "metadata": {
        "colab": {
          "base_uri": "https://localhost:8080/"
        },
        "id": "mYQ4-G92pZyU",
        "outputId": "cd2dcb07-a26b-42e6-9813-65fe397bf7e1"
      },
      "execution_count": null,
      "outputs": [
        {
          "output_type": "stream",
          "name": "stdout",
          "text": [
            "22 2 120 1.2\n"
          ]
        }
      ]
    },
    {
      "cell_type": "markdown",
      "source": [
        "Create a function which accepts 'name' and 'age' of a person and display the name of the person"
      ],
      "metadata": {
        "id": "2AwN-lJoqF-g"
      }
    },
    {
      "cell_type": "code",
      "source": [
        "def info(name,age):\n",
        "  print(\"Hi\",name,\"good evening :)\")"
      ],
      "metadata": {
        "id": "A-84WqQ5pdD_"
      },
      "execution_count": null,
      "outputs": []
    },
    {
      "cell_type": "code",
      "source": [
        "info('Meera',27)"
      ],
      "metadata": {
        "colab": {
          "base_uri": "https://localhost:8080/"
        },
        "id": "8gs5i2BgsBC_",
        "outputId": "bcdfcca3-385c-46fc-82bc-1a602bdc8e03"
      },
      "execution_count": null,
      "outputs": [
        {
          "output_type": "stream",
          "name": "stdout",
          "text": [
            "Hi Meera good evening :)\n"
          ]
        }
      ]
    },
    {
      "cell_type": "code",
      "source": [
        "info('Ravi',32)"
      ],
      "metadata": {
        "colab": {
          "base_uri": "https://localhost:8080/"
        },
        "id": "sOD3byz0sIpN",
        "outputId": "a21aec9b-51fd-4f52-fc82-f7bc4f74ee5f"
      },
      "execution_count": null,
      "outputs": [
        {
          "output_type": "stream",
          "name": "stdout",
          "text": [
            "Hi Ravi good evening :)\n"
          ]
        }
      ]
    },
    {
      "cell_type": "markdown",
      "source": [
        "Create a function which accepts 'name' and 'salary' of a person and display the name and the salary of the person"
      ],
      "metadata": {
        "id": "I0dIsZl5s4YT"
      }
    },
    {
      "cell_type": "code",
      "source": [
        "def data(name,salary):\n",
        "  print(\"Hi\",name,\"your salary is\",salary,\"rupees\")"
      ],
      "metadata": {
        "id": "f4a9rQ62sl4r"
      },
      "execution_count": null,
      "outputs": []
    },
    {
      "cell_type": "code",
      "source": [
        "data('George',20000)"
      ],
      "metadata": {
        "colab": {
          "base_uri": "https://localhost:8080/"
        },
        "id": "J3MxfCbBtt1a",
        "outputId": "f2a5c206-207f-467e-9ad5-6cf62599de30"
      },
      "execution_count": null,
      "outputs": [
        {
          "output_type": "stream",
          "name": "stdout",
          "text": [
            "Hi George your salary is 20000 rupees\n"
          ]
        }
      ]
    },
    {
      "cell_type": "code",
      "source": [
        "data('Aashu',)"
      ],
      "metadata": {
        "colab": {
          "base_uri": "https://localhost:8080/",
          "height": 169
        },
        "id": "v1IgzRt9uH3_",
        "outputId": "2dcee895-81a7-453b-a739-d01b7109261d"
      },
      "execution_count": null,
      "outputs": [
        {
          "output_type": "error",
          "ename": "TypeError",
          "evalue": "ignored",
          "traceback": [
            "\u001b[0;31m---------------------------------------------------------------------------\u001b[0m",
            "\u001b[0;31mTypeError\u001b[0m                                 Traceback (most recent call last)",
            "\u001b[0;32m<ipython-input-20-3d508e22a488>\u001b[0m in \u001b[0;36m<module>\u001b[0;34m\u001b[0m\n\u001b[0;32m----> 1\u001b[0;31m \u001b[0mdata\u001b[0m\u001b[0;34m(\u001b[0m\u001b[0;34m'Aashu'\u001b[0m\u001b[0;34m,\u001b[0m\u001b[0;34m)\u001b[0m\u001b[0;34m\u001b[0m\u001b[0;34m\u001b[0m\u001b[0m\n\u001b[0m",
            "\u001b[0;31mTypeError\u001b[0m: data() missing 1 required positional argument: 'salary'"
          ]
        }
      ]
    },
    {
      "cell_type": "markdown",
      "source": [
        "Create a function which accepts 'name' and 'salary' of a person and display the name and the salary of the person\n",
        "\n",
        "If the salary of the person is not mentioned, use dafault salary as 10000"
      ],
      "metadata": {
        "id": "bzt8w-yzt3DF"
      }
    },
    {
      "cell_type": "code",
      "source": [
        "def data(name,salary=10000): #10000 is the default parameter\n",
        "  print(\"Hi\",name,\"your salary is\",salary,\"rupees\")"
      ],
      "metadata": {
        "id": "QWy4wWaStzmD"
      },
      "execution_count": null,
      "outputs": []
    },
    {
      "cell_type": "code",
      "source": [
        "data('Aashu',20000)"
      ],
      "metadata": {
        "colab": {
          "base_uri": "https://localhost:8080/"
        },
        "id": "6NCPAfaLuj2p",
        "outputId": "71f7b3ae-56c3-4ae9-a354-4e562a8c81b2"
      },
      "execution_count": null,
      "outputs": [
        {
          "output_type": "stream",
          "name": "stdout",
          "text": [
            "Hi Aashu your salary is 20000 rupees\n"
          ]
        }
      ]
    },
    {
      "cell_type": "code",
      "source": [
        "data('Aashu',)"
      ],
      "metadata": {
        "colab": {
          "base_uri": "https://localhost:8080/"
        },
        "id": "B98Zqf4bunk8",
        "outputId": "1f29e994-e3e1-45c8-91a1-7514c6374c7d"
      },
      "execution_count": null,
      "outputs": [
        {
          "output_type": "stream",
          "name": "stdout",
          "text": [
            "Hi Aashu your salary is 10000 rupees\n"
          ]
        }
      ]
    },
    {
      "cell_type": "markdown",
      "source": [
        "Create a function which computes the area and circumference of a circle "
      ],
      "metadata": {
        "id": "M1TqkSI9vPUg"
      }
    },
    {
      "cell_type": "code",
      "source": [
        "#circumference - 2*pi*r\n",
        "#area - pi*r^2\n",
        "\n",
        "def circle(r):\n",
        "  area=3.14*r**2\n",
        "  circum=2*3.14*r\n",
        "  print(\"area of circle is\",area,\"units and circumference is\",circum,\"units\")"
      ],
      "metadata": {
        "id": "x8m-bd9muq78"
      },
      "execution_count": null,
      "outputs": []
    },
    {
      "cell_type": "code",
      "source": [
        "circle(4)"
      ],
      "metadata": {
        "colab": {
          "base_uri": "https://localhost:8080/"
        },
        "id": "EasFyi8hx4me",
        "outputId": "d40d7487-7336-432c-b82e-9e4ca4b84820"
      },
      "execution_count": null,
      "outputs": [
        {
          "output_type": "stream",
          "name": "stdout",
          "text": [
            "area of circle is 50.24 units and circumference is 25.12 units\n"
          ]
        }
      ]
    },
    {
      "cell_type": "code",
      "source": [
        "circle(15)"
      ],
      "metadata": {
        "colab": {
          "base_uri": "https://localhost:8080/"
        },
        "id": "vcmvcQD-x-QX",
        "outputId": "3a78574f-a8dc-4abb-9231-a14297551c25"
      },
      "execution_count": null,
      "outputs": [
        {
          "output_type": "stream",
          "name": "stdout",
          "text": [
            "area of circle is 706.5 units and circumference is 94.2 units\n"
          ]
        }
      ]
    },
    {
      "cell_type": "markdown",
      "source": [
        "Create a function which computes area and perimeter of a rectangle"
      ],
      "metadata": {
        "id": "liUJpJBcwhRv"
      }
    },
    {
      "cell_type": "code",
      "source": [
        "#area - l*b\n",
        "#perimeter - 2(l+b)\n",
        "\n",
        "def rect(l,b):\n",
        "  area=l*b\n",
        "  perimeter=2*(l+b)\n",
        "  print(\"area of rectange is\",area,\"units and perimeter is\",perimeter,\"units\")"
      ],
      "metadata": {
        "id": "GB7pu1iCwrMk"
      },
      "execution_count": null,
      "outputs": []
    },
    {
      "cell_type": "code",
      "source": [
        "rect(10,20)"
      ],
      "metadata": {
        "colab": {
          "base_uri": "https://localhost:8080/"
        },
        "id": "4gWERdO1wyPy",
        "outputId": "544f9e67-d958-42a3-84ff-d6355e464e07"
      },
      "execution_count": null,
      "outputs": [
        {
          "output_type": "stream",
          "name": "stdout",
          "text": [
            "area of rectange is 200 units and perimeter is 60 units\n"
          ]
        }
      ]
    },
    {
      "cell_type": "markdown",
      "source": [
        "\n",
        "Create a function to accept three numbers as input from the user and display the largest number out of the three given numbers "
      ],
      "metadata": {
        "id": "hS2q8QITynPQ"
      }
    },
    {
      "cell_type": "code",
      "source": [
        "def max(a,b,c):\n",
        "\n",
        "  if a>b and a>c:\n",
        "    print(\"a is largest\")\n",
        "\n",
        "  elif b>a and b>c:\n",
        "    print(\"b is largest\")\n",
        "\n",
        "  else:\n",
        "    print(\"c is largest\")"
      ],
      "metadata": {
        "id": "l5xZKQ6nyb-E"
      },
      "execution_count": null,
      "outputs": []
    },
    {
      "cell_type": "code",
      "source": [
        "max(4,6,8)"
      ],
      "metadata": {
        "colab": {
          "base_uri": "https://localhost:8080/"
        },
        "id": "zQ04dd3400s2",
        "outputId": "2b69a057-97a6-4178-9024-ca9417b6df05"
      },
      "execution_count": null,
      "outputs": [
        {
          "output_type": "stream",
          "name": "stdout",
          "text": [
            "c is largest\n"
          ]
        }
      ]
    },
    {
      "cell_type": "code",
      "source": [
        "max(45,78,12)"
      ],
      "metadata": {
        "colab": {
          "base_uri": "https://localhost:8080/"
        },
        "id": "RsUcIzfp03lG",
        "outputId": "afe19d9e-1258-48fb-bfea-15fefaffc8e3"
      },
      "execution_count": null,
      "outputs": [
        {
          "output_type": "stream",
          "name": "stdout",
          "text": [
            "b is largest\n"
          ]
        }
      ]
    },
    {
      "cell_type": "markdown",
      "source": [
        "Create a function which adds all the elements given in a group of numbers"
      ],
      "metadata": {
        "id": "wH215Vcv5SkH"
      }
    },
    {
      "cell_type": "code",
      "source": [
        "def add_sum(num):\n",
        "  sum=0\n",
        "\n",
        "  for i in num:\n",
        "    sum=sum+i\n",
        "\n",
        "  print(sum)"
      ],
      "metadata": {
        "id": "Bjrkckvq13Sh"
      },
      "execution_count": null,
      "outputs": []
    },
    {
      "cell_type": "code",
      "source": [
        "add_sum((1,2,3,4,5,6,8,7))"
      ],
      "metadata": {
        "colab": {
          "base_uri": "https://localhost:8080/"
        },
        "id": "tJjZ6t6b73Qh",
        "outputId": "fc1954cd-5352-4f35-b8e0-43ff02000526"
      },
      "execution_count": null,
      "outputs": [
        {
          "output_type": "stream",
          "name": "stdout",
          "text": [
            "36\n"
          ]
        }
      ]
    },
    {
      "cell_type": "code",
      "source": [
        "add_sum((2,4,6))"
      ],
      "metadata": {
        "colab": {
          "base_uri": "https://localhost:8080/"
        },
        "id": "A-GHs3mb7C0I",
        "outputId": "d511c4f6-b93a-4ac8-8ec4-2bd67bc0ca02"
      },
      "execution_count": null,
      "outputs": [
        {
          "output_type": "stream",
          "name": "stdout",
          "text": [
            "12\n"
          ]
        }
      ]
    },
    {
      "cell_type": "code",
      "source": [
        "add_sum((2,3,4,5))"
      ],
      "metadata": {
        "colab": {
          "base_uri": "https://localhost:8080/"
        },
        "id": "PdMfOU947Gkc",
        "outputId": "e68dfff6-79f0-475c-ef13-85ea323d7b02"
      },
      "execution_count": null,
      "outputs": [
        {
          "output_type": "stream",
          "name": "stdout",
          "text": [
            "14\n"
          ]
        }
      ]
    },
    {
      "cell_type": "markdown",
      "source": [
        "Create a function which counts the number of vowels and consonants in a given word"
      ],
      "metadata": {
        "id": "CoRCKF1f6lWZ"
      }
    },
    {
      "cell_type": "code",
      "source": [
        "def count(word):\n",
        "  vowel_count=0\n",
        "  cons_count=0\n",
        "\n",
        "  for i in word:\n",
        "    if i in ('a','A','e','E','i','I','o','O','u','U'):\n",
        "      vowel_count=vowel_count+1\n",
        "\n",
        "    else:\n",
        "      cons_count=cons_count+1\n",
        "\n",
        "  print(\"number of vowels are\",vowel_count,\"and number of consonants\",cons_count)"
      ],
      "metadata": {
        "id": "MZSmjaer932H"
      },
      "execution_count": null,
      "outputs": []
    },
    {
      "cell_type": "code",
      "source": [
        "count('Aashutosh')"
      ],
      "metadata": {
        "colab": {
          "base_uri": "https://localhost:8080/"
        },
        "id": "I5V26JJpA3XR",
        "outputId": "9117af74-8c93-4227-f31a-6a1189fc9283"
      },
      "execution_count": null,
      "outputs": [
        {
          "output_type": "stream",
          "name": "stdout",
          "text": [
            "number of vowels are 4 and number of consonants 5\n"
          ]
        }
      ]
    },
    {
      "cell_type": "code",
      "source": [
        "count('Meera')"
      ],
      "metadata": {
        "colab": {
          "base_uri": "https://localhost:8080/"
        },
        "id": "u7U_7jgXA8k8",
        "outputId": "d514b63c-e0b3-4dcd-f100-c1c4514149ee"
      },
      "execution_count": null,
      "outputs": [
        {
          "output_type": "stream",
          "name": "stdout",
          "text": [
            "number of vowels are 3 and number of consonants 2\n"
          ]
        }
      ]
    },
    {
      "cell_type": "markdown",
      "source": [
        "Create a function which displays the even numbers given in a list of numbers in a new separate list"
      ],
      "metadata": {
        "id": "AMJ_DgyABed2"
      }
    },
    {
      "cell_type": "code",
      "source": [
        "#o/p should be a list with all the even numbers from the given list of numbers as i/p"
      ],
      "metadata": {
        "id": "fBWPsrRwA_44"
      },
      "execution_count": null,
      "outputs": []
    },
    {
      "cell_type": "code",
      "source": [],
      "metadata": {
        "id": "DjvcSlo-CCao"
      },
      "execution_count": null,
      "outputs": []
    },
    {
      "cell_type": "markdown",
      "source": [
        "NUMPY"
      ],
      "metadata": {
        "id": "Dli4CvmcCDJF"
      }
    },
    {
      "cell_type": "code",
      "source": [
        "import numpy as np #np is the alias name"
      ],
      "metadata": {
        "id": "YuygpATgB6Hf"
      },
      "execution_count": null,
      "outputs": []
    },
    {
      "cell_type": "code",
      "source": [
        "my_list=[1,2,4,5,6]"
      ],
      "metadata": {
        "id": "ljWG0JrXGiEH"
      },
      "execution_count": null,
      "outputs": []
    },
    {
      "cell_type": "code",
      "source": [
        "type(my_list)"
      ],
      "metadata": {
        "colab": {
          "base_uri": "https://localhost:8080/"
        },
        "id": "4Oea_Y04G0Y4",
        "outputId": "2c83e853-6603-48d0-ce08-fa4854d4c5c5"
      },
      "execution_count": null,
      "outputs": [
        {
          "output_type": "execute_result",
          "data": {
            "text/plain": [
              "list"
            ]
          },
          "metadata": {},
          "execution_count": 49
        }
      ]
    },
    {
      "cell_type": "code",
      "source": [
        "#converting list into an array\n",
        "arr=np.array(my_list) #np.array() will convert list into an array"
      ],
      "metadata": {
        "id": "15jPoW2qG2bV"
      },
      "execution_count": null,
      "outputs": []
    },
    {
      "cell_type": "code",
      "source": [
        "print(arr)"
      ],
      "metadata": {
        "colab": {
          "base_uri": "https://localhost:8080/"
        },
        "id": "kjEo5rXtHBIy",
        "outputId": "0542a951-272d-4760-e930-2adad2035dcb"
      },
      "execution_count": null,
      "outputs": [
        {
          "output_type": "stream",
          "name": "stdout",
          "text": [
            "[1 2 4 5 6]\n"
          ]
        }
      ]
    },
    {
      "cell_type": "code",
      "source": [
        "type(arr) #ndimentionalarray where n=1, 1darray"
      ],
      "metadata": {
        "colab": {
          "base_uri": "https://localhost:8080/"
        },
        "id": "p6iLGm5yHCdl",
        "outputId": "a655705c-58e0-40ff-b072-4a484fa4321e"
      },
      "execution_count": null,
      "outputs": [
        {
          "output_type": "execute_result",
          "data": {
            "text/plain": [
              "numpy.ndarray"
            ]
          },
          "metadata": {},
          "execution_count": 53
        }
      ]
    },
    {
      "cell_type": "code",
      "source": [
        "#multinested array\n",
        "my_list_1=[1,2,4,5,6]\n",
        "my_list_2=[4,5,6,11,0]\n",
        "my_list_3=[21,44,58,16,12]"
      ],
      "metadata": {
        "id": "LmEzHjc0HE9P"
      },
      "execution_count": null,
      "outputs": []
    },
    {
      "cell_type": "code",
      "source": [
        "arr_new=np.array([my_list_1,my_list_2,my_list_3])"
      ],
      "metadata": {
        "id": "jo1aMPUqHySb"
      },
      "execution_count": null,
      "outputs": []
    },
    {
      "cell_type": "code",
      "source": [
        "print(arr_new)"
      ],
      "metadata": {
        "colab": {
          "base_uri": "https://localhost:8080/"
        },
        "id": "HEvoWmqxH7M3",
        "outputId": "65099de3-67c7-428c-eb38-07f7d78d968a"
      },
      "execution_count": null,
      "outputs": [
        {
          "output_type": "stream",
          "name": "stdout",
          "text": [
            "[[ 1  2  4  5  6]\n",
            " [ 4  5  6 11  0]\n",
            " [21 44 58 16 12]]\n"
          ]
        }
      ]
    },
    {
      "cell_type": "code",
      "source": [
        "arr_new.shape #here 3 indicates number of rows and 5 indicates number of columns"
      ],
      "metadata": {
        "colab": {
          "base_uri": "https://localhost:8080/"
        },
        "id": "YhLDZtpKIUnr",
        "outputId": "3cef6cbc-51c8-4bb8-fb1c-c5ba61de5fdf"
      },
      "execution_count": null,
      "outputs": [
        {
          "output_type": "execute_result",
          "data": {
            "text/plain": [
              "(3, 5)"
            ]
          },
          "metadata": {},
          "execution_count": 59
        }
      ]
    },
    {
      "cell_type": "code",
      "source": [
        "arr_new.reshape(5,3) #changes the shape to 5 rows and 3 columns(matrix transpose)"
      ],
      "metadata": {
        "colab": {
          "base_uri": "https://localhost:8080/"
        },
        "id": "QS08TxG2Iv69",
        "outputId": "21ad1b6b-c5ba-463b-b746-9b7009a7c4de"
      },
      "execution_count": null,
      "outputs": [
        {
          "output_type": "execute_result",
          "data": {
            "text/plain": [
              "array([[ 1,  2,  4],\n",
              "       [ 5,  6,  4],\n",
              "       [ 5,  6, 11],\n",
              "       [ 0, 21, 44],\n",
              "       [58, 16, 12]])"
            ]
          },
          "metadata": {},
          "execution_count": 60
        }
      ]
    },
    {
      "cell_type": "code",
      "source": [
        "arr_new.reshape(5,4)"
      ],
      "metadata": {
        "colab": {
          "base_uri": "https://localhost:8080/",
          "height": 169
        },
        "id": "y3qDdhzoJtGT",
        "outputId": "e170c21c-9b05-4f8d-9cd6-c5fe8b974770"
      },
      "execution_count": null,
      "outputs": [
        {
          "output_type": "error",
          "ename": "ValueError",
          "evalue": "ignored",
          "traceback": [
            "\u001b[0;31m---------------------------------------------------------------------------\u001b[0m",
            "\u001b[0;31mValueError\u001b[0m                                Traceback (most recent call last)",
            "\u001b[0;32m<ipython-input-61-761c59ee5d99>\u001b[0m in \u001b[0;36m<module>\u001b[0;34m\u001b[0m\n\u001b[0;32m----> 1\u001b[0;31m \u001b[0marr_new\u001b[0m\u001b[0;34m.\u001b[0m\u001b[0mreshape\u001b[0m\u001b[0;34m(\u001b[0m\u001b[0;36m5\u001b[0m\u001b[0;34m,\u001b[0m\u001b[0;36m4\u001b[0m\u001b[0;34m)\u001b[0m\u001b[0;34m\u001b[0m\u001b[0;34m\u001b[0m\u001b[0m\n\u001b[0m",
            "\u001b[0;31mValueError\u001b[0m: cannot reshape array of size 15 into shape (5,4)"
          ]
        }
      ]
    },
    {
      "cell_type": "code",
      "source": [
        "type(arr_new) #2darray"
      ],
      "metadata": {
        "colab": {
          "base_uri": "https://localhost:8080/"
        },
        "id": "yP74O7-eH8V_",
        "outputId": "19965c44-6a31-4553-e092-f2d7ffac1841"
      },
      "execution_count": null,
      "outputs": [
        {
          "output_type": "execute_result",
          "data": {
            "text/plain": [
              "numpy.ndarray"
            ]
          },
          "metadata": {},
          "execution_count": 57
        }
      ]
    },
    {
      "cell_type": "code",
      "source": [
        "#indexing"
      ],
      "metadata": {
        "id": "w6GzAtl_IPFY"
      },
      "execution_count": null,
      "outputs": []
    },
    {
      "cell_type": "code",
      "source": [
        "print(arr)"
      ],
      "metadata": {
        "colab": {
          "base_uri": "https://localhost:8080/"
        },
        "id": "XzXEUzvoLXwt",
        "outputId": "5ba87762-07ac-489c-b3e2-b1b6a94c205a"
      },
      "execution_count": null,
      "outputs": [
        {
          "output_type": "stream",
          "name": "stdout",
          "text": [
            "[1 2 4 5 6]\n"
          ]
        }
      ]
    },
    {
      "cell_type": "code",
      "source": [
        "arr[3]"
      ],
      "metadata": {
        "colab": {
          "base_uri": "https://localhost:8080/"
        },
        "id": "0rgHlvz9LcVI",
        "outputId": "4409eb01-95c4-4faa-c64a-99e245861871"
      },
      "execution_count": null,
      "outputs": [
        {
          "output_type": "execute_result",
          "data": {
            "text/plain": [
              "5"
            ]
          },
          "metadata": {},
          "execution_count": 64
        }
      ]
    },
    {
      "cell_type": "code",
      "source": [
        "arr[4]"
      ],
      "metadata": {
        "colab": {
          "base_uri": "https://localhost:8080/"
        },
        "id": "ppn7kFg7Lg2t",
        "outputId": "9fde7de2-bab9-4751-d239-a015c0b613c8"
      },
      "execution_count": null,
      "outputs": [
        {
          "output_type": "execute_result",
          "data": {
            "text/plain": [
              "6"
            ]
          },
          "metadata": {},
          "execution_count": 65
        }
      ]
    },
    {
      "cell_type": "code",
      "source": [
        "print(arr_new)"
      ],
      "metadata": {
        "colab": {
          "base_uri": "https://localhost:8080/"
        },
        "id": "2h1gHHDSLuKC",
        "outputId": "44970dc7-993c-46ba-b590-6f8bfe5a813c"
      },
      "execution_count": null,
      "outputs": [
        {
          "output_type": "stream",
          "name": "stdout",
          "text": [
            "[[ 1  2  4  5  6]\n",
            " [ 4  5  6 11  0]\n",
            " [21 44 58 16 12]]\n"
          ]
        }
      ]
    },
    {
      "cell_type": "code",
      "source": [
        "arr_new[1:4]"
      ],
      "metadata": {
        "colab": {
          "base_uri": "https://localhost:8080/"
        },
        "id": "8-37A7TbL2RL",
        "outputId": "99a7f168-3421-4d56-f0f5-c37710bf207a"
      },
      "execution_count": null,
      "outputs": [
        {
          "output_type": "execute_result",
          "data": {
            "text/plain": [
              "array([[ 4,  5,  6, 11,  0],\n",
              "       [21, 44, 58, 16, 12]])"
            ]
          },
          "metadata": {},
          "execution_count": 67
        }
      ]
    },
    {
      "cell_type": "code",
      "source": [
        "print(arr_new)"
      ],
      "metadata": {
        "colab": {
          "base_uri": "https://localhost:8080/"
        },
        "id": "tmeGEmmuQZX_",
        "outputId": "637cf671-4027-4f04-91f7-ff02d5f799b7"
      },
      "execution_count": null,
      "outputs": [
        {
          "output_type": "stream",
          "name": "stdout",
          "text": [
            "[[ 1  2  4  5  6]\n",
            " [ 4  5  6 11  0]\n",
            " [21 44 58 16 12]]\n"
          ]
        }
      ]
    },
    {
      "cell_type": "code",
      "source": [
        "arr_new[1:,1:]"
      ],
      "metadata": {
        "colab": {
          "base_uri": "https://localhost:8080/"
        },
        "id": "8UVq1b-NQS62",
        "outputId": "ed5f2c1f-6bdc-4487-896e-543d0f175787"
      },
      "execution_count": null,
      "outputs": [
        {
          "output_type": "execute_result",
          "data": {
            "text/plain": [
              "array([[ 5,  6, 11,  0],\n",
              "       [44, 58, 16, 12]])"
            ]
          },
          "metadata": {},
          "execution_count": 71
        }
      ]
    },
    {
      "cell_type": "code",
      "source": [
        "arr_new[1:4,1:2]"
      ],
      "metadata": {
        "colab": {
          "base_uri": "https://localhost:8080/"
        },
        "id": "usuktJbsN1s9",
        "outputId": "633bea79-b226-4cdf-a9f7-6d7b30a7af22"
      },
      "execution_count": null,
      "outputs": [
        {
          "output_type": "execute_result",
          "data": {
            "text/plain": [
              "array([[ 5],\n",
              "       [44]])"
            ]
          },
          "metadata": {},
          "execution_count": 68
        }
      ]
    },
    {
      "cell_type": "code",
      "source": [
        "#generating random numbers"
      ],
      "metadata": {
        "id": "AliyvysUMFbx"
      },
      "execution_count": null,
      "outputs": []
    },
    {
      "cell_type": "code",
      "source": [
        "arr_1=np.arange(1,10) #equally spaced values from 1 to 9 (10 will be  exclusive)"
      ],
      "metadata": {
        "id": "9DI4PQwjT5G9"
      },
      "execution_count": null,
      "outputs": []
    },
    {
      "cell_type": "code",
      "source": [
        "print(arr_1)"
      ],
      "metadata": {
        "colab": {
          "base_uri": "https://localhost:8080/"
        },
        "id": "gyOMB0krWpHG",
        "outputId": "42ad2237-7df5-4616-d53b-27ae9f33b2d1"
      },
      "execution_count": null,
      "outputs": [
        {
          "output_type": "stream",
          "name": "stdout",
          "text": [
            "[1 2 3 4 5 6 7 8 9]\n"
          ]
        }
      ]
    },
    {
      "cell_type": "code",
      "source": [
        "arr_2=np.arange(1,20,2) #2 is the step size "
      ],
      "metadata": {
        "id": "E6hcXjI9Wq00"
      },
      "execution_count": null,
      "outputs": []
    },
    {
      "cell_type": "code",
      "source": [
        "print(arr_2)"
      ],
      "metadata": {
        "colab": {
          "base_uri": "https://localhost:8080/"
        },
        "id": "eU1QR5-nW71n",
        "outputId": "7609bffd-de9b-496c-ce98-602fa787f955"
      },
      "execution_count": null,
      "outputs": [
        {
          "output_type": "stream",
          "name": "stdout",
          "text": [
            "[ 1  3  5  7  9 11 13 15 17 19]\n"
          ]
        }
      ]
    },
    {
      "cell_type": "code",
      "source": [
        "np.linspace(1,10,50) #here 50 indicates the number of elements we want in the range(1,10)"
      ],
      "metadata": {
        "colab": {
          "base_uri": "https://localhost:8080/"
        },
        "id": "rz7puRGfW-Iw",
        "outputId": "ce0fb863-17b5-43af-88ea-cda08eb87f30"
      },
      "execution_count": null,
      "outputs": [
        {
          "output_type": "execute_result",
          "data": {
            "text/plain": [
              "array([ 1.        ,  1.18367347,  1.36734694,  1.55102041,  1.73469388,\n",
              "        1.91836735,  2.10204082,  2.28571429,  2.46938776,  2.65306122,\n",
              "        2.83673469,  3.02040816,  3.20408163,  3.3877551 ,  3.57142857,\n",
              "        3.75510204,  3.93877551,  4.12244898,  4.30612245,  4.48979592,\n",
              "        4.67346939,  4.85714286,  5.04081633,  5.2244898 ,  5.40816327,\n",
              "        5.59183673,  5.7755102 ,  5.95918367,  6.14285714,  6.32653061,\n",
              "        6.51020408,  6.69387755,  6.87755102,  7.06122449,  7.24489796,\n",
              "        7.42857143,  7.6122449 ,  7.79591837,  7.97959184,  8.16326531,\n",
              "        8.34693878,  8.53061224,  8.71428571,  8.89795918,  9.08163265,\n",
              "        9.26530612,  9.44897959,  9.63265306,  9.81632653, 10.        ])"
            ]
          },
          "metadata": {},
          "execution_count": 77
        }
      ]
    },
    {
      "cell_type": "code",
      "source": [
        "np.linspace(1,10,70)"
      ],
      "metadata": {
        "colab": {
          "base_uri": "https://localhost:8080/"
        },
        "id": "0SyFu1zPXyXb",
        "outputId": "dcd0f791-db78-47b7-e16d-60173dc8b28a"
      },
      "execution_count": null,
      "outputs": [
        {
          "output_type": "execute_result",
          "data": {
            "text/plain": [
              "array([ 1.        ,  1.13043478,  1.26086957,  1.39130435,  1.52173913,\n",
              "        1.65217391,  1.7826087 ,  1.91304348,  2.04347826,  2.17391304,\n",
              "        2.30434783,  2.43478261,  2.56521739,  2.69565217,  2.82608696,\n",
              "        2.95652174,  3.08695652,  3.2173913 ,  3.34782609,  3.47826087,\n",
              "        3.60869565,  3.73913043,  3.86956522,  4.        ,  4.13043478,\n",
              "        4.26086957,  4.39130435,  4.52173913,  4.65217391,  4.7826087 ,\n",
              "        4.91304348,  5.04347826,  5.17391304,  5.30434783,  5.43478261,\n",
              "        5.56521739,  5.69565217,  5.82608696,  5.95652174,  6.08695652,\n",
              "        6.2173913 ,  6.34782609,  6.47826087,  6.60869565,  6.73913043,\n",
              "        6.86956522,  7.        ,  7.13043478,  7.26086957,  7.39130435,\n",
              "        7.52173913,  7.65217391,  7.7826087 ,  7.91304348,  8.04347826,\n",
              "        8.17391304,  8.30434783,  8.43478261,  8.56521739,  8.69565217,\n",
              "        8.82608696,  8.95652174,  9.08695652,  9.2173913 ,  9.34782609,\n",
              "        9.47826087,  9.60869565,  9.73913043,  9.86956522, 10.        ])"
            ]
          },
          "metadata": {},
          "execution_count": 78
        }
      ]
    },
    {
      "cell_type": "code",
      "source": [
        "np.linspace(1,10,70,dtype='int')"
      ],
      "metadata": {
        "colab": {
          "base_uri": "https://localhost:8080/"
        },
        "id": "tEHaPFTVY8Zj",
        "outputId": "9adf1772-d4d4-4555-ed84-2e680145fb2b"
      },
      "execution_count": null,
      "outputs": [
        {
          "output_type": "execute_result",
          "data": {
            "text/plain": [
              "array([ 1,  1,  1,  1,  1,  1,  1,  1,  2,  2,  2,  2,  2,  2,  2,  2,  3,\n",
              "        3,  3,  3,  3,  3,  3,  4,  4,  4,  4,  4,  4,  4,  4,  5,  5,  5,\n",
              "        5,  5,  5,  5,  5,  6,  6,  6,  6,  6,  6,  6,  7,  7,  7,  7,  7,\n",
              "        7,  7,  7,  8,  8,  8,  8,  8,  8,  8,  8,  9,  9,  9,  9,  9,  9,\n",
              "        9, 10])"
            ]
          },
          "metadata": {},
          "execution_count": 81
        }
      ]
    },
    {
      "cell_type": "code",
      "source": [
        "np.linspace(1,50,30)"
      ],
      "metadata": {
        "colab": {
          "base_uri": "https://localhost:8080/"
        },
        "id": "oBqfGszeX_us",
        "outputId": "8f8b47a2-9a15-49ea-e9e0-dab6b4068b31"
      },
      "execution_count": null,
      "outputs": [
        {
          "output_type": "execute_result",
          "data": {
            "text/plain": [
              "array([ 1.        ,  2.68965517,  4.37931034,  6.06896552,  7.75862069,\n",
              "        9.44827586, 11.13793103, 12.82758621, 14.51724138, 16.20689655,\n",
              "       17.89655172, 19.5862069 , 21.27586207, 22.96551724, 24.65517241,\n",
              "       26.34482759, 28.03448276, 29.72413793, 31.4137931 , 33.10344828,\n",
              "       34.79310345, 36.48275862, 38.17241379, 39.86206897, 41.55172414,\n",
              "       43.24137931, 44.93103448, 46.62068966, 48.31034483, 50.        ])"
            ]
          },
          "metadata": {},
          "execution_count": 79
        }
      ]
    },
    {
      "cell_type": "code",
      "source": [
        "np.linspace(1,50,30, dtype='int')"
      ],
      "metadata": {
        "colab": {
          "base_uri": "https://localhost:8080/"
        },
        "id": "jTwXVy73YdUC",
        "outputId": "cdbf9abd-ab89-43f6-acbc-8a4ff5cfe532"
      },
      "execution_count": null,
      "outputs": [
        {
          "output_type": "execute_result",
          "data": {
            "text/plain": [
              "array([ 1,  2,  4,  6,  7,  9, 11, 12, 14, 16, 17, 19, 21, 22, 24, 26, 28,\n",
              "       29, 31, 33, 34, 36, 38, 39, 41, 43, 44, 46, 48, 50])"
            ]
          },
          "metadata": {},
          "execution_count": 80
        }
      ]
    },
    {
      "cell_type": "code",
      "source": [
        "np.random.rand(3,4) #here 3 is the number of rows and 4 is the number of columns \n",
        "#by default the range in random.rand is 0-1 (1 being exclusive)"
      ],
      "metadata": {
        "colab": {
          "base_uri": "https://localhost:8080/"
        },
        "id": "HginJQWdY0R8",
        "outputId": "61fa7ac6-01e7-4e90-b3e3-67ad0ac810d7"
      },
      "execution_count": null,
      "outputs": [
        {
          "output_type": "execute_result",
          "data": {
            "text/plain": [
              "array([[0.95687084, 0.8679445 , 0.44902711, 0.21301547],\n",
              "       [0.70225019, 0.4285725 , 0.60057049, 0.0885588 ],\n",
              "       [0.23575742, 0.08072196, 0.10946011, 0.4058795 ]])"
            ]
          },
          "metadata": {},
          "execution_count": 86
        }
      ]
    },
    {
      "cell_type": "code",
      "source": [
        "np.random.rand(3,5)"
      ],
      "metadata": {
        "colab": {
          "base_uri": "https://localhost:8080/"
        },
        "id": "zZpCqsVZapd8",
        "outputId": "e324de12-eee7-4e3a-f3db-7aa300888203"
      },
      "execution_count": null,
      "outputs": [
        {
          "output_type": "execute_result",
          "data": {
            "text/plain": [
              "array([[0.68262766, 0.99042536, 0.33108943, 0.09204186, 0.21883495],\n",
              "       [0.67948116, 0.19445457, 0.40957607, 0.34405706, 0.75357368],\n",
              "       [0.98839799, 0.82313992, 0.48085116, 0.38069627, 0.5826579 ]])"
            ]
          },
          "metadata": {},
          "execution_count": 88
        }
      ]
    },
    {
      "cell_type": "code",
      "source": [
        "np.random.randint(3,9,4) #here 3-9 is the range and 4 indicates the number of elements we want from this range"
      ],
      "metadata": {
        "colab": {
          "base_uri": "https://localhost:8080/"
        },
        "id": "hKu1Ca-GasA9",
        "outputId": "b988e243-a80e-4324-8d2e-309f39c13713"
      },
      "execution_count": null,
      "outputs": [
        {
          "output_type": "execute_result",
          "data": {
            "text/plain": [
              "array([6, 4, 8, 3])"
            ]
          },
          "metadata": {},
          "execution_count": 93
        }
      ]
    },
    {
      "cell_type": "code",
      "source": [
        "np.random.randint(1,20,5)"
      ],
      "metadata": {
        "colab": {
          "base_uri": "https://localhost:8080/"
        },
        "id": "o787_mhEavGv",
        "outputId": "5038ae1a-0fdb-498a-8211-485bd9f3750c"
      },
      "execution_count": null,
      "outputs": [
        {
          "output_type": "execute_result",
          "data": {
            "text/plain": [
              "array([ 8,  8, 12,  2, 15])"
            ]
          },
          "metadata": {},
          "execution_count": 95
        }
      ]
    },
    {
      "cell_type": "code",
      "source": [],
      "metadata": {
        "id": "M1p20XWIc7oU"
      },
      "execution_count": null,
      "outputs": []
    }
  ]
}