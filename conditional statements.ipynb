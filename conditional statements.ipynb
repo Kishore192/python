{
  "nbformat": 4,
  "nbformat_minor": 0,
  "metadata": {
    "colab": {
      "provenance": [],
      "authorship_tag": "ABX9TyPkFZusx4aGz65xSg6PuvHC",
      "include_colab_link": true
    },
    "kernelspec": {
      "name": "python3",
      "display_name": "Python 3"
    },
    "language_info": {
      "name": "python"
    }
  },
  "cells": [
    {
      "cell_type": "markdown",
      "metadata": {
        "id": "view-in-github",
        "colab_type": "text"
      },
      "source": [
        "<a href=\"https://colab.research.google.com/github/Kishore192/python/blob/main/conditional%20statements.ipynb\" target=\"_parent\"><img src=\"https://colab.research.google.com/assets/colab-badge.svg\" alt=\"Open In Colab\"/></a>"
      ]
    },
    {
      "cell_type": "code",
      "execution_count": null,
      "metadata": {
        "id": "OMIB3P0iq9to"
      },
      "outputs": [],
      "source": [
        "x=int(input(\"enter the no\"))\n",
        "if x%2==0 and x%3==0:\n",
        "  print (\"x is divisible by both 2 and 3\")\n",
        "else:\n",
        "   print (\"x is not divisible either by 2 or 3\")"
      ]
    },
    {
      "cell_type": "code",
      "source": [
        "x=int(input(\"enter the no x\"))\n",
        "y=int(input(\"enter the no y\"))\n",
        "z=int(input(\"enter the no z\"))\n",
        "if x>y and x>z:\n",
        "  print(\"x is greater than y and z\")\n",
        "elif y>x and y>z:\n",
        "  print(\"y is greater than x and z\")\n",
        "else:\n",
        "  print(\"z is greater than y and x\")"
      ],
      "metadata": {
        "id": "A3q8pVLj29Az"
      },
      "execution_count": null,
      "outputs": []
    },
    {
      "cell_type": "code",
      "source": [
        "\n",
        "x=float(input(\"cost of bike\"))\n",
        "if x<=50000:\n",
        "  road_tax=0.05*x\n",
        "  print(\"road_tax\",road_tax)\n",
        "elif 50000<x<100000:\n",
        "  road_tax=0.1*x\n",
        "  print(\"road_tax\",road_tax)\n",
        "else:\n",
        "  road_tax=0.15*x\n",
        "  print(\"road_tax\",road_tax)"
      ],
      "metadata": {
        "id": "1y8ojFzP73XN"
      },
      "execution_count": null,
      "outputs": []
    },
    {
      "cell_type": "code",
      "source": [
        "\n",
        "x=str(input(\"enter your alphabet\"))\n",
        "\n",
        "if x=='a':\n",
        "  print (\"x is vowel\")\n",
        "\n",
        "elif x=='e':\n",
        "  print (\"x is vowel\")\n",
        "elif x=='i':\n",
        "  print (\"x is vowel\")\n",
        "elif x=='o':\n",
        "  print (\"x is vowel\")\n",
        "elif x=='u':\n",
        "  print (\"x is vowel\")\n",
        "elif x=='h':\n",
        "  print (\"x is exception\")\n",
        "elif x=='y':\n",
        "  print (\"x is exception\")\n",
        "else:\n",
        "   print (\"x is consonant\")"
      ],
      "metadata": {
        "id": "TfUH1W-w4Th3",
        "colab": {
          "base_uri": "https://localhost:8080/"
        },
        "outputId": "d20477fd-4be4-4c1c-9b6c-c0a398c1f5fe"
      },
      "execution_count": null,
      "outputs": [
        {
          "output_type": "stream",
          "name": "stdout",
          "text": [
            "enter your alphabetu\n",
            "x is vowel\n"
          ]
        }
      ]
    },
    {
      "cell_type": "code",
      "source": [
        "x=float(input(\"enter units\"))\n",
        "if x<100:\n",
        "  print(\"price is zero\")\n",
        "elif 100<x<200:\n",
        "  bill=x*5\n",
        "  print(\"bill\",bill)\n",
        "else:\n",
        "  bill=x*10\n",
        "  print(\"bill\",bill)"
      ],
      "metadata": {
        "id": "MtxYYZzQPcxj",
        "colab": {
          "base_uri": "https://localhost:8080/"
        },
        "outputId": "a6e083a7-c9d0-44cc-89f7-559e2846c289"
      },
      "execution_count": null,
      "outputs": [
        {
          "output_type": "stream",
          "name": "stdout",
          "text": [
            "enter units150\n",
            "bill 750.0\n"
          ]
        }
      ]
    }
  ]
}