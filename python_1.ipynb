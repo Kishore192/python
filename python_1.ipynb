{
  "nbformat": 4,
  "nbformat_minor": 0,
  "metadata": {
    "colab": {
      "provenance": [],
      "include_colab_link": true
    },
    "kernelspec": {
      "name": "python3",
      "display_name": "Python 3"
    },
    "language_info": {
      "name": "python"
    }
  },
  "cells": [
    {
      "cell_type": "markdown",
      "metadata": {
        "id": "view-in-github",
        "colab_type": "text"
      },
      "source": [
        "<a href=\"https://colab.research.google.com/github/Kishore192/python/blob/main/python_class1.ipynb\" target=\"_parent\"><img src=\"https://colab.research.google.com/assets/colab-badge.svg\" alt=\"Open In Colab\"/></a>"
      ]
    },
    {
      "cell_type": "markdown",
      "source": [
        "Python was developed in the year 1992 by Sir Guido Van Rossum\n",
        "\n",
        ".ipynb - internetpythonnotebook\n",
        "\n",
        ".py - python \n",
        "\n",
        "How to execute the code cell - ctrl+enter or shift+enter or use the play button on the left side"
      ],
      "metadata": {
        "id": "hQ6l7Dk5OpUJ"
      }
    },
    {
      "cell_type": "code",
      "execution_count": null,
      "metadata": {
        "id": "JJQAExfGN9Oc"
      },
      "outputs": [],
      "source": [
        "#comments to your code - readablity of the code increases, not going to get executed"
      ]
    },
    {
      "cell_type": "code",
      "source": [
        "a=15\n",
        "b=20"
      ],
      "metadata": {
        "id": "yukbtGzGOng0"
      },
      "execution_count": null,
      "outputs": []
    },
    {
      "cell_type": "code",
      "source": [
        "print(a)"
      ],
      "metadata": {
        "colab": {
          "base_uri": "https://localhost:8080/"
        },
        "id": "BwrDyz4uOnZU",
        "outputId": "9c48ac4f-98ba-42b3-b25f-fcd6cc738d55"
      },
      "execution_count": null,
      "outputs": [
        {
          "output_type": "stream",
          "name": "stdout",
          "text": [
            "15\n"
          ]
        }
      ]
    },
    {
      "cell_type": "code",
      "source": [
        "print(b)"
      ],
      "metadata": {
        "colab": {
          "base_uri": "https://localhost:8080/"
        },
        "id": "lopPL4YbOnPa",
        "outputId": "f231c991-4349-4b11-dd44-e9cd0f2faacf"
      },
      "execution_count": null,
      "outputs": [
        {
          "output_type": "stream",
          "name": "stdout",
          "text": [
            "20\n"
          ]
        }
      ]
    },
    {
      "cell_type": "code",
      "source": [
        "#datatypes in Python"
      ],
      "metadata": {
        "id": "hWwuawQuRvTq"
      },
      "execution_count": null,
      "outputs": []
    },
    {
      "cell_type": "code",
      "source": [
        "c='India'"
      ],
      "metadata": {
        "id": "x48LRn5VOnGl"
      },
      "execution_count": null,
      "outputs": []
    },
    {
      "cell_type": "code",
      "source": [
        "print(c)"
      ],
      "metadata": {
        "colab": {
          "base_uri": "https://localhost:8080/"
        },
        "id": "JXhrDMZkOnCQ",
        "outputId": "87c0cd58-3e3d-4465-cbd6-d9144b58542c"
      },
      "execution_count": null,
      "outputs": [
        {
          "output_type": "stream",
          "name": "stdout",
          "text": [
            "India\n"
          ]
        }
      ]
    },
    {
      "cell_type": "code",
      "source": [
        "type(c)"
      ],
      "metadata": {
        "colab": {
          "base_uri": "https://localhost:8080/"
        },
        "id": "s1VBiVevOm9Q",
        "outputId": "baa85c65-b275-455c-d823-09ffadb4e3a1"
      },
      "execution_count": null,
      "outputs": [
        {
          "output_type": "execute_result",
          "data": {
            "text/plain": [
              "str"
            ]
          },
          "metadata": {},
          "execution_count": 6
        }
      ]
    },
    {
      "cell_type": "code",
      "source": [
        "d=\"-8.9\""
      ],
      "metadata": {
        "id": "bYFOfSFeOm1Z"
      },
      "execution_count": null,
      "outputs": []
    },
    {
      "cell_type": "code",
      "source": [
        "print(d)"
      ],
      "metadata": {
        "colab": {
          "base_uri": "https://localhost:8080/"
        },
        "id": "fqEV1t1KOmvD",
        "outputId": "820110de-5629-432c-caab-34c36664def4"
      },
      "execution_count": null,
      "outputs": [
        {
          "output_type": "stream",
          "name": "stdout",
          "text": [
            "-8.9\n"
          ]
        }
      ]
    },
    {
      "cell_type": "code",
      "source": [
        "type(d)"
      ],
      "metadata": {
        "colab": {
          "base_uri": "https://localhost:8080/"
        },
        "id": "azQO9GRzOmp7",
        "outputId": "e831ba0e-a5e4-4f2c-c70e-f7e558d2fa01"
      },
      "execution_count": null,
      "outputs": [
        {
          "output_type": "execute_result",
          "data": {
            "text/plain": [
              "str"
            ]
          },
          "metadata": {},
          "execution_count": 12
        }
      ]
    },
    {
      "cell_type": "code",
      "source": [
        "e=['India','USA',40,30,-250,-3.14]"
      ],
      "metadata": {
        "id": "sIP-3JseOmjZ"
      },
      "execution_count": null,
      "outputs": []
    },
    {
      "cell_type": "code",
      "source": [
        "print(e)"
      ],
      "metadata": {
        "colab": {
          "base_uri": "https://localhost:8080/"
        },
        "id": "RAz5GlnrRb1r",
        "outputId": "5d9d27b5-8554-4f3c-f884-5955ef76c743"
      },
      "execution_count": null,
      "outputs": [
        {
          "output_type": "stream",
          "name": "stdout",
          "text": [
            "['India', 'USA', 40, 30, -250, -3.14]\n"
          ]
        }
      ]
    },
    {
      "cell_type": "code",
      "source": [
        "type(e)"
      ],
      "metadata": {
        "colab": {
          "base_uri": "https://localhost:8080/"
        },
        "id": "1Uo165C3RdWx",
        "outputId": "56c98b4a-a815-4854-d5a7-9d8d36ad579d"
      },
      "execution_count": null,
      "outputs": [
        {
          "output_type": "execute_result",
          "data": {
            "text/plain": [
              "list"
            ]
          },
          "metadata": {},
          "execution_count": 15
        }
      ]
    },
    {
      "cell_type": "code",
      "source": [
        "p=25\n",
        "q=20\n",
        "\n",
        "print(p>q)"
      ],
      "metadata": {
        "colab": {
          "base_uri": "https://localhost:8080/"
        },
        "id": "mATXqv2DU3GR",
        "outputId": "fa431145-2705-488a-eab2-ec05b09b9281"
      },
      "execution_count": null,
      "outputs": [
        {
          "output_type": "stream",
          "name": "stdout",
          "text": [
            "True\n"
          ]
        }
      ]
    },
    {
      "cell_type": "code",
      "source": [
        "type(q>p)"
      ],
      "metadata": {
        "colab": {
          "base_uri": "https://localhost:8080/"
        },
        "id": "SuzoGDJuVHWL",
        "outputId": "2ee3e463-0dd6-4d38-c693-7edfbc85db70"
      },
      "execution_count": null,
      "outputs": [
        {
          "output_type": "execute_result",
          "data": {
            "text/plain": [
              "bool"
            ]
          },
          "metadata": {},
          "execution_count": 53
        }
      ]
    },
    {
      "cell_type": "code",
      "source": [
        "print(q>p)"
      ],
      "metadata": {
        "colab": {
          "base_uri": "https://localhost:8080/"
        },
        "id": "jK-hpq7HU_Cq",
        "outputId": "9ef2742f-5d88-4636-c02c-d3fed10e0567"
      },
      "execution_count": null,
      "outputs": [
        {
          "output_type": "stream",
          "name": "stdout",
          "text": [
            "False\n"
          ]
        }
      ]
    },
    {
      "cell_type": "code",
      "source": [
        "type(p>q)"
      ],
      "metadata": {
        "colab": {
          "base_uri": "https://localhost:8080/"
        },
        "id": "kYSsIziJVDn3",
        "outputId": "5d8f5640-a3a0-4522-cdab-ec5fbb585f8f"
      },
      "execution_count": null,
      "outputs": [
        {
          "output_type": "execute_result",
          "data": {
            "text/plain": [
              "bool"
            ]
          },
          "metadata": {},
          "execution_count": 52
        }
      ]
    },
    {
      "cell_type": "code",
      "source": [
        "#taking input from the user"
      ],
      "metadata": {
        "id": "M4cSANjfRg8a"
      },
      "execution_count": null,
      "outputs": []
    },
    {
      "cell_type": "code",
      "source": [
        "name=input(\"Enter your name\")"
      ],
      "metadata": {
        "colab": {
          "base_uri": "https://localhost:8080/"
        },
        "id": "R5-J2q61RyhU",
        "outputId": "cf25fdef-aba4-406b-818a-2c00649a16a9"
      },
      "execution_count": null,
      "outputs": [
        {
          "name": "stdout",
          "output_type": "stream",
          "text": [
            "Enter your name*4tjdd323\n"
          ]
        }
      ]
    },
    {
      "cell_type": "code",
      "source": [
        "print(name)"
      ],
      "metadata": {
        "colab": {
          "base_uri": "https://localhost:8080/"
        },
        "id": "AcFW0puSSPNm",
        "outputId": "d8395815-23e1-41b9-e21f-b7d7da77b6a9"
      },
      "execution_count": null,
      "outputs": [
        {
          "output_type": "stream",
          "name": "stdout",
          "text": [
            "*4tjdd323\n"
          ]
        }
      ]
    },
    {
      "cell_type": "code",
      "source": [
        "type(name)"
      ],
      "metadata": {
        "colab": {
          "base_uri": "https://localhost:8080/"
        },
        "id": "b4CV2w2cSYgc",
        "outputId": "58a96d46-9410-45fe-e5f0-f097691dce06"
      },
      "execution_count": null,
      "outputs": [
        {
          "output_type": "execute_result",
          "data": {
            "text/plain": [
              "str"
            ]
          },
          "metadata": {},
          "execution_count": 23
        }
      ]
    },
    {
      "cell_type": "code",
      "source": [
        "#typecasting - restricting the input() "
      ],
      "metadata": {
        "id": "o_pmIAA0SZ0_"
      },
      "execution_count": null,
      "outputs": []
    },
    {
      "cell_type": "code",
      "source": [
        "otp=int(input(\"enter your 4 digit otp\"))"
      ],
      "metadata": {
        "colab": {
          "base_uri": "https://localhost:8080/"
        },
        "id": "jybov5AUSrvH",
        "outputId": "6eb99d9a-5af2-4eff-c48d-4b46fa8ca465"
      },
      "execution_count": null,
      "outputs": [
        {
          "name": "stdout",
          "output_type": "stream",
          "text": [
            "enter your 4 digit otp4589\n"
          ]
        }
      ]
    },
    {
      "cell_type": "code",
      "source": [
        "print(otp)"
      ],
      "metadata": {
        "colab": {
          "base_uri": "https://localhost:8080/"
        },
        "id": "LEvmSSRySzwX",
        "outputId": "ca66e2b0-48ff-4de0-87ca-a22a4316e240"
      },
      "execution_count": null,
      "outputs": [
        {
          "output_type": "stream",
          "name": "stdout",
          "text": [
            "4589\n"
          ]
        }
      ]
    },
    {
      "cell_type": "code",
      "source": [
        "type(otp)"
      ],
      "metadata": {
        "colab": {
          "base_uri": "https://localhost:8080/"
        },
        "id": "_v8nRC_sS1wt",
        "outputId": "8d6a2a0f-7f1c-4a9a-ecd1-aa5f462a81a8"
      },
      "execution_count": null,
      "outputs": [
        {
          "output_type": "execute_result",
          "data": {
            "text/plain": [
              "int"
            ]
          },
          "metadata": {},
          "execution_count": 40
        }
      ]
    },
    {
      "cell_type": "code",
      "source": [
        "temp=float(input(\"enter temp of your city\"))"
      ],
      "metadata": {
        "colab": {
          "base_uri": "https://localhost:8080/"
        },
        "id": "97CJsycSS232",
        "outputId": "1fceb3cb-e185-4c96-f2ec-4d35cb46887a"
      },
      "execution_count": null,
      "outputs": [
        {
          "name": "stdout",
          "output_type": "stream",
          "text": [
            "enter temp of your city25\n"
          ]
        }
      ]
    },
    {
      "cell_type": "code",
      "source": [
        "print(temp)"
      ],
      "metadata": {
        "colab": {
          "base_uri": "https://localhost:8080/"
        },
        "id": "jf5e2fClT6Ji",
        "outputId": "f902162d-b85b-408f-f97f-831d30031dbd"
      },
      "execution_count": null,
      "outputs": [
        {
          "output_type": "stream",
          "name": "stdout",
          "text": [
            "25.0\n"
          ]
        }
      ]
    },
    {
      "cell_type": "code",
      "source": [
        "type(temp)"
      ],
      "metadata": {
        "colab": {
          "base_uri": "https://localhost:8080/"
        },
        "id": "uyq54cmbT8Oc",
        "outputId": "351cf0dc-0233-45a5-9033-485a0ef9021d"
      },
      "execution_count": null,
      "outputs": [
        {
          "output_type": "execute_result",
          "data": {
            "text/plain": [
              "float"
            ]
          },
          "metadata": {},
          "execution_count": 49
        }
      ]
    },
    {
      "cell_type": "code",
      "source": [
        "#Operations on Strings and Lists\n",
        "\n",
        "#Concatination\n",
        "#Indexing\n",
        "#Slicing"
      ],
      "metadata": {
        "id": "NsmfWEgzT9Nq"
      },
      "execution_count": null,
      "outputs": []
    },
    {
      "cell_type": "code",
      "source": [
        "#concatination in strings"
      ],
      "metadata": {
        "id": "2qCFt0krVeaq"
      },
      "execution_count": null,
      "outputs": []
    },
    {
      "cell_type": "code",
      "source": [
        "a='United'\n",
        "b='Nations'"
      ],
      "metadata": {
        "id": "20NwhOkLXb9l"
      },
      "execution_count": null,
      "outputs": []
    },
    {
      "cell_type": "code",
      "source": [
        "print(a+b)"
      ],
      "metadata": {
        "colab": {
          "base_uri": "https://localhost:8080/"
        },
        "id": "fFrPHcUzXerc",
        "outputId": "d3746f25-618f-4e49-c069-11d68027aaca"
      },
      "execution_count": null,
      "outputs": [
        {
          "output_type": "stream",
          "name": "stdout",
          "text": [
            "UnitedNations\n"
          ]
        }
      ]
    },
    {
      "cell_type": "code",
      "source": [
        "print(a+' '+b)"
      ],
      "metadata": {
        "colab": {
          "base_uri": "https://localhost:8080/"
        },
        "id": "2dcy6TgeXfhi",
        "outputId": "6d643199-98c1-4439-8e04-2f7498700c4e"
      },
      "execution_count": null,
      "outputs": [
        {
          "output_type": "stream",
          "name": "stdout",
          "text": [
            "United Nations\n"
          ]
        }
      ]
    },
    {
      "cell_type": "code",
      "source": [
        "c='Hello'\n",
        "d='Good evening,'\n",
        "e=input(\"enter your name\")\n",
        "print(c+' '+d+' '+e)"
      ],
      "metadata": {
        "colab": {
          "base_uri": "https://localhost:8080/"
        },
        "id": "oe7Wb62tXmFh",
        "outputId": "5454cd16-7cf7-4b7d-b9bd-fbe5c10f05f1"
      },
      "execution_count": null,
      "outputs": [
        {
          "output_type": "stream",
          "name": "stdout",
          "text": [
            "enter your nameMohan\n",
            "Hello Good evening, Mohan\n"
          ]
        }
      ]
    },
    {
      "cell_type": "code",
      "source": [
        "a='My'\n",
        "b='India'\n",
        "print(a+' '+b)"
      ],
      "metadata": {
        "colab": {
          "base_uri": "https://localhost:8080/"
        },
        "id": "ysM7xYorX_FX",
        "outputId": "4a346f2f-9518-41df-f1d6-342676563d17"
      },
      "execution_count": null,
      "outputs": [
        {
          "output_type": "stream",
          "name": "stdout",
          "text": [
            "My India\n"
          ]
        }
      ]
    },
    {
      "cell_type": "code",
      "source": [
        "temp=input(\"enter temp of your city\")\n",
        "c='degree celcius'\n",
        "print(temp+' '+c)"
      ],
      "metadata": {
        "colab": {
          "base_uri": "https://localhost:8080/"
        },
        "id": "LghQTaiEYsaR",
        "outputId": "4e1cadc3-f12d-410d-d0bc-8a1afeb75dda"
      },
      "execution_count": null,
      "outputs": [
        {
          "output_type": "stream",
          "name": "stdout",
          "text": [
            "enter temp of your city45\n",
            "45 degree celcius\n"
          ]
        }
      ]
    },
    {
      "cell_type": "code",
      "source": [
        "#concatination of lists"
      ],
      "metadata": {
        "id": "XWHL7n7cY1vj"
      },
      "execution_count": null,
      "outputs": []
    },
    {
      "cell_type": "code",
      "source": [
        "l1=['India','USA','China']\n",
        "l2=[34,23,580,90,-34,-23]"
      ],
      "metadata": {
        "id": "zTjEKT_lZanV"
      },
      "execution_count": null,
      "outputs": []
    },
    {
      "cell_type": "code",
      "source": [
        "print(l1+l2)"
      ],
      "metadata": {
        "colab": {
          "base_uri": "https://localhost:8080/"
        },
        "id": "O49Aef-CZh4m",
        "outputId": "1810b0c3-4295-40bc-a45b-36c98be135dc"
      },
      "execution_count": null,
      "outputs": [
        {
          "output_type": "stream",
          "name": "stdout",
          "text": [
            "['India', 'USA', 'China', 34, 23, 580, 90, -34, -23]\n"
          ]
        }
      ]
    },
    {
      "cell_type": "code",
      "source": [
        "#indexing - in Python indexing starts from 0"
      ],
      "metadata": {
        "id": "dm7fe5alZjNd"
      },
      "execution_count": null,
      "outputs": []
    },
    {
      "cell_type": "code",
      "source": [
        "#indexing on strings\n",
        "city='Bangalore'"
      ],
      "metadata": {
        "id": "hO3aRlZRaiJR"
      },
      "execution_count": null,
      "outputs": []
    },
    {
      "cell_type": "code",
      "source": [
        "print(city[2])"
      ],
      "metadata": {
        "colab": {
          "base_uri": "https://localhost:8080/"
        },
        "id": "U17qCGKbdWVW",
        "outputId": "21109308-6cf1-4380-b250-d7a95358e281"
      },
      "execution_count": null,
      "outputs": [
        {
          "output_type": "stream",
          "name": "stdout",
          "text": [
            "n\n"
          ]
        }
      ]
    },
    {
      "cell_type": "code",
      "source": [
        "city[6]"
      ],
      "metadata": {
        "colab": {
          "base_uri": "https://localhost:8080/",
          "height": 36
        },
        "id": "zo3diBI_dZAX",
        "outputId": "a65ffd2b-ea5d-49e0-8f9c-4d3c666f88a4"
      },
      "execution_count": null,
      "outputs": [
        {
          "output_type": "execute_result",
          "data": {
            "text/plain": [
              "'o'"
            ],
            "application/vnd.google.colaboratory.intrinsic+json": {
              "type": "string"
            }
          },
          "metadata": {},
          "execution_count": 72
        }
      ]
    },
    {
      "cell_type": "code",
      "source": [
        "#indexing in lists"
      ],
      "metadata": {
        "id": "yyjHq0ocdp4f"
      },
      "execution_count": null,
      "outputs": []
    },
    {
      "cell_type": "code",
      "source": [
        "l3=['India', 'USA', 'China', 34, 23, 580, 90, -34, -23]"
      ],
      "metadata": {
        "id": "Pah11LyFdy9F"
      },
      "execution_count": null,
      "outputs": []
    },
    {
      "cell_type": "code",
      "source": [
        "print(l3[5])"
      ],
      "metadata": {
        "colab": {
          "base_uri": "https://localhost:8080/"
        },
        "id": "I3V2J0W5d1xF",
        "outputId": "956f034d-71ee-4bd7-9a6e-a169c8bddc18"
      },
      "execution_count": null,
      "outputs": [
        {
          "output_type": "stream",
          "name": "stdout",
          "text": [
            "580\n"
          ]
        }
      ]
    },
    {
      "cell_type": "code",
      "source": [
        "l3[2]"
      ],
      "metadata": {
        "colab": {
          "base_uri": "https://localhost:8080/",
          "height": 36
        },
        "id": "xlT5lxV7eBGc",
        "outputId": "fcac7625-c7cf-4096-ac48-94f2e82506b5"
      },
      "execution_count": null,
      "outputs": [
        {
          "output_type": "execute_result",
          "data": {
            "text/plain": [
              "'China'"
            ],
            "application/vnd.google.colaboratory.intrinsic+json": {
              "type": "string"
            }
          },
          "metadata": {},
          "execution_count": 76
        }
      ]
    },
    {
      "cell_type": "code",
      "source": [
        "#slicing in strings"
      ],
      "metadata": {
        "id": "oZUxWS-CeE1Q"
      },
      "execution_count": null,
      "outputs": []
    },
    {
      "cell_type": "code",
      "source": [
        "s='United States'"
      ],
      "metadata": {
        "id": "3LnJXMtXjh5w"
      },
      "execution_count": null,
      "outputs": []
    },
    {
      "cell_type": "code",
      "source": [
        "s[0:6] #United"
      ],
      "metadata": {
        "colab": {
          "base_uri": "https://localhost:8080/",
          "height": 36
        },
        "id": "8aaahFqpjoRD",
        "outputId": "686ce561-bad6-4c87-eebf-8481d3878f72"
      },
      "execution_count": null,
      "outputs": [
        {
          "output_type": "execute_result",
          "data": {
            "text/plain": [
              "'United'"
            ],
            "application/vnd.google.colaboratory.intrinsic+json": {
              "type": "string"
            }
          },
          "metadata": {},
          "execution_count": 79
        }
      ]
    },
    {
      "cell_type": "code",
      "source": [
        "s[7:12] #State"
      ],
      "metadata": {
        "colab": {
          "base_uri": "https://localhost:8080/",
          "height": 36
        },
        "id": "7E4FFD8vjsAH",
        "outputId": "e0b5ec1a-510d-403c-ecdd-f3d2b520c31e"
      },
      "execution_count": null,
      "outputs": [
        {
          "output_type": "execute_result",
          "data": {
            "text/plain": [
              "'State'"
            ],
            "application/vnd.google.colaboratory.intrinsic+json": {
              "type": "string"
            }
          },
          "metadata": {},
          "execution_count": 82
        }
      ]
    },
    {
      "cell_type": "code",
      "source": [
        "s[:]"
      ],
      "metadata": {
        "colab": {
          "base_uri": "https://localhost:8080/",
          "height": 36
        },
        "id": "CvwSKmQQjuoe",
        "outputId": "aecee88e-16a5-4a4d-9e81-073c32853611"
      },
      "execution_count": null,
      "outputs": [
        {
          "output_type": "execute_result",
          "data": {
            "text/plain": [
              "'United States'"
            ],
            "application/vnd.google.colaboratory.intrinsic+json": {
              "type": "string"
            }
          },
          "metadata": {},
          "execution_count": 84
        }
      ]
    },
    {
      "cell_type": "code",
      "source": [
        "s[2:]"
      ],
      "metadata": {
        "colab": {
          "base_uri": "https://localhost:8080/",
          "height": 36
        },
        "id": "mOZr31lxkLHE",
        "outputId": "9107d34a-a95c-4983-eff4-2b61c6ee77ce"
      },
      "execution_count": null,
      "outputs": [
        {
          "output_type": "execute_result",
          "data": {
            "text/plain": [
              "'ited States'"
            ],
            "application/vnd.google.colaboratory.intrinsic+json": {
              "type": "string"
            }
          },
          "metadata": {},
          "execution_count": 85
        }
      ]
    },
    {
      "cell_type": "code",
      "source": [
        "s[:7]"
      ],
      "metadata": {
        "colab": {
          "base_uri": "https://localhost:8080/",
          "height": 36
        },
        "id": "Z0kicJ2Ck-3N",
        "outputId": "ce877ee2-76f3-43bd-f060-5655782e7ffc"
      },
      "execution_count": null,
      "outputs": [
        {
          "output_type": "execute_result",
          "data": {
            "text/plain": [
              "'United '"
            ],
            "application/vnd.google.colaboratory.intrinsic+json": {
              "type": "string"
            }
          },
          "metadata": {},
          "execution_count": 86
        }
      ]
    },
    {
      "cell_type": "code",
      "source": [
        "l5=[13,14,-10,34,89,200,-32,-56]"
      ],
      "metadata": {
        "id": "W1bhGm8VlEm-"
      },
      "execution_count": null,
      "outputs": []
    },
    {
      "cell_type": "code",
      "source": [
        "l5[:]"
      ],
      "metadata": {
        "colab": {
          "base_uri": "https://localhost:8080/"
        },
        "id": "Fm_IuptQp8SP",
        "outputId": "d65f40bd-c987-4628-ab1c-69b181fa9c88"
      },
      "execution_count": null,
      "outputs": [
        {
          "output_type": "execute_result",
          "data": {
            "text/plain": [
              "[13, 14, -10, 34, 89, 200, -32, -56]"
            ]
          },
          "metadata": {},
          "execution_count": 88
        }
      ]
    },
    {
      "cell_type": "code",
      "source": [
        "l5[2:]"
      ],
      "metadata": {
        "colab": {
          "base_uri": "https://localhost:8080/"
        },
        "id": "fo5bnQZKp-qZ",
        "outputId": "78c979e4-2511-4e4d-adc3-0e046fbd30e1"
      },
      "execution_count": null,
      "outputs": [
        {
          "output_type": "execute_result",
          "data": {
            "text/plain": [
              "[-10, 34, 89, 200, -32, -56]"
            ]
          },
          "metadata": {},
          "execution_count": 89
        }
      ]
    },
    {
      "cell_type": "code",
      "source": [
        "l5[:5]"
      ],
      "metadata": {
        "colab": {
          "base_uri": "https://localhost:8080/"
        },
        "id": "MdGfn5GBqAcD",
        "outputId": "b153f80c-260d-4965-e2fb-edc2832fb5fa"
      },
      "execution_count": null,
      "outputs": [
        {
          "output_type": "execute_result",
          "data": {
            "text/plain": [
              "[13, 14, -10, 34, 89]"
            ]
          },
          "metadata": {},
          "execution_count": 90
        }
      ]
    },
    {
      "cell_type": "code",
      "source": [
        "#built in functions with respect to Lists"
      ],
      "metadata": {
        "id": "yP1WYJX9qEc9"
      },
      "execution_count": null,
      "outputs": []
    },
    {
      "cell_type": "code",
      "source": [
        "l1=['AI','Data Science','Machine Learning','Statistics']"
      ],
      "metadata": {
        "id": "W75gKuEXqr42"
      },
      "execution_count": null,
      "outputs": []
    },
    {
      "cell_type": "code",
      "source": [
        "l1.append('Python') #will add the new element at the end of the list "
      ],
      "metadata": {
        "id": "LJ-WgJEArGc4"
      },
      "execution_count": null,
      "outputs": []
    },
    {
      "cell_type": "code",
      "source": [
        "print(l1)"
      ],
      "metadata": {
        "colab": {
          "base_uri": "https://localhost:8080/"
        },
        "id": "35qLoOsUrUnL",
        "outputId": "80965e98-b1e3-4347-9ce7-78fdb239f742"
      },
      "execution_count": null,
      "outputs": [
        {
          "output_type": "stream",
          "name": "stdout",
          "text": [
            "['AI', 'Data Science', 'Machine Learning', 'Statistics', 'Python']\n"
          ]
        }
      ]
    },
    {
      "cell_type": "code",
      "source": [
        "l1.insert(2,'Python') #will add the new element at the desired index position"
      ],
      "metadata": {
        "id": "pSd8fZ7wrdva"
      },
      "execution_count": null,
      "outputs": []
    },
    {
      "cell_type": "code",
      "source": [
        "print(l1)"
      ],
      "metadata": {
        "colab": {
          "base_uri": "https://localhost:8080/"
        },
        "id": "n8oy0fXUrrnr",
        "outputId": "1efb0ee9-0bcb-4907-83a0-a171b94f9a0d"
      },
      "execution_count": null,
      "outputs": [
        {
          "output_type": "stream",
          "name": "stdout",
          "text": [
            "['AI', 'Data Science', 'Python', 'Machine Learning', 'Statistics', 'Python']\n"
          ]
        }
      ]
    },
    {
      "cell_type": "code",
      "source": [
        "l1.remove('Statistics') #will delete the first occurance of element by its name(or value)"
      ],
      "metadata": {
        "id": "AgwRtBvFryVg"
      },
      "execution_count": null,
      "outputs": []
    },
    {
      "cell_type": "code",
      "source": [
        "print(l1)"
      ],
      "metadata": {
        "colab": {
          "base_uri": "https://localhost:8080/"
        },
        "id": "cS6QUqvfssF5",
        "outputId": "e75423bf-38b3-40fd-a0e3-9d4f838ce546"
      },
      "execution_count": null,
      "outputs": [
        {
          "output_type": "stream",
          "name": "stdout",
          "text": [
            "['AI', 'Data Science', 'Python', 'Machine Learning', 'Python']\n"
          ]
        }
      ]
    },
    {
      "cell_type": "code",
      "source": [
        "l1.pop(3) #will delete the element by its index number "
      ],
      "metadata": {
        "colab": {
          "base_uri": "https://localhost:8080/",
          "height": 36
        },
        "id": "Q_TElWirsQuF",
        "outputId": "8b5049c0-b7cd-41e2-eac9-76e0188a429d"
      },
      "execution_count": null,
      "outputs": [
        {
          "output_type": "execute_result",
          "data": {
            "text/plain": [
              "'Machine Learning'"
            ],
            "application/vnd.google.colaboratory.intrinsic+json": {
              "type": "string"
            }
          },
          "metadata": {},
          "execution_count": 99
        }
      ]
    },
    {
      "cell_type": "code",
      "source": [
        "print(l1)"
      ],
      "metadata": {
        "colab": {
          "base_uri": "https://localhost:8080/"
        },
        "id": "2wtND4-yszXX",
        "outputId": "63cfb8e1-544e-4198-cc26-baf7f3296249"
      },
      "execution_count": null,
      "outputs": [
        {
          "output_type": "stream",
          "name": "stdout",
          "text": [
            "['AI', 'Data Science', 'Python', 'Python']\n"
          ]
        }
      ]
    },
    {
      "cell_type": "code",
      "source": [
        "l1.insert(3,'NLP')"
      ],
      "metadata": {
        "id": "VqmjDV8vs3h-"
      },
      "execution_count": null,
      "outputs": []
    },
    {
      "cell_type": "code",
      "source": [
        "l1.insert(4,'Computer Vision')"
      ],
      "metadata": {
        "id": "wcLyONmwtEpT"
      },
      "execution_count": null,
      "outputs": []
    },
    {
      "cell_type": "code",
      "source": [
        "print(l1)"
      ],
      "metadata": {
        "colab": {
          "base_uri": "https://localhost:8080/"
        },
        "id": "vsNkegDEtIlE",
        "outputId": "f048c64d-63bd-456f-f291-ea37a44c95a4"
      },
      "execution_count": null,
      "outputs": [
        {
          "output_type": "stream",
          "name": "stdout",
          "text": [
            "['AI', 'Data Science', 'Python', 'NLP', 'Computer Vision', 'Python']\n"
          ]
        }
      ]
    },
    {
      "cell_type": "code",
      "source": [
        "l1.remove('Python') #first occurance of Python i.e. at 2nd index will be deleted"
      ],
      "metadata": {
        "id": "YMgGKaLVtJfm"
      },
      "execution_count": null,
      "outputs": []
    },
    {
      "cell_type": "code",
      "source": [
        "print(l1)"
      ],
      "metadata": {
        "colab": {
          "base_uri": "https://localhost:8080/"
        },
        "id": "U8-rbDeatz2X",
        "outputId": "7ce6c311-bc28-4321-a03e-b50498e2702b"
      },
      "execution_count": null,
      "outputs": [
        {
          "output_type": "stream",
          "name": "stdout",
          "text": [
            "['AI', 'Data Science', 'NLP', 'Computer Vision', 'Python']\n"
          ]
        }
      ]
    },
    {
      "cell_type": "code",
      "source": [
        "l1.extend(['Statistics','Tableau','SQL']) #will add all the list of elements at the end of the list"
      ],
      "metadata": {
        "id": "1h4Vh0Mpt1uz"
      },
      "execution_count": null,
      "outputs": []
    },
    {
      "cell_type": "code",
      "source": [
        "print(l1)"
      ],
      "metadata": {
        "colab": {
          "base_uri": "https://localhost:8080/"
        },
        "id": "mpMBq_H9uyb7",
        "outputId": "c747dd46-889f-44f8-ca6a-9e7ac28e9d13"
      },
      "execution_count": null,
      "outputs": [
        {
          "output_type": "stream",
          "name": "stdout",
          "text": [
            "['AI', 'Data Science', 'NLP', 'Computer Vision', 'Python', 'Statistics', 'Tableau', 'SQL']\n"
          ]
        }
      ]
    },
    {
      "cell_type": "code",
      "source": [
        "l2=[14,45,45,26,78,59,44,23,45,72,23,56,89,55,53,45]"
      ],
      "metadata": {
        "id": "DvgMytdjuzj_"
      },
      "execution_count": null,
      "outputs": []
    },
    {
      "cell_type": "code",
      "source": [
        "len(l2) #will show the total number of elements in the list"
      ],
      "metadata": {
        "colab": {
          "base_uri": "https://localhost:8080/"
        },
        "id": "YoD98PrzwyoF",
        "outputId": "9b22e328-eefa-4134-92fc-3988051468af"
      },
      "execution_count": null,
      "outputs": [
        {
          "output_type": "execute_result",
          "data": {
            "text/plain": [
              "16"
            ]
          },
          "metadata": {},
          "execution_count": 118
        }
      ]
    },
    {
      "cell_type": "code",
      "source": [
        "l2.count(45) #will count the frequncy of element 45 - how many times 45 occurs in the list"
      ],
      "metadata": {
        "colab": {
          "base_uri": "https://localhost:8080/"
        },
        "id": "pWiKukvQw8wM",
        "outputId": "39682068-77b3-4a8f-9d80-6df7396f4a42"
      },
      "execution_count": null,
      "outputs": [
        {
          "output_type": "execute_result",
          "data": {
            "text/plain": [
              "4"
            ]
          },
          "metadata": {},
          "execution_count": 119
        }
      ]
    },
    {
      "cell_type": "code",
      "source": [
        "l2.count(23)"
      ],
      "metadata": {
        "colab": {
          "base_uri": "https://localhost:8080/"
        },
        "id": "U1YOkUh-xW98",
        "outputId": "1f553e23-33b9-461b-8215-56defaed164f"
      },
      "execution_count": null,
      "outputs": [
        {
          "output_type": "execute_result",
          "data": {
            "text/plain": [
              "2"
            ]
          },
          "metadata": {},
          "execution_count": 120
        }
      ]
    },
    {
      "cell_type": "code",
      "source": [
        "l2.sort() #bydeault will arrange the elements in ascending order"
      ],
      "metadata": {
        "id": "IeKHpVPpxmrH"
      },
      "execution_count": null,
      "outputs": []
    },
    {
      "cell_type": "code",
      "source": [
        "print(l2)"
      ],
      "metadata": {
        "colab": {
          "base_uri": "https://localhost:8080/"
        },
        "id": "Le8Safu4x25G",
        "outputId": "0cd83fbf-cd7c-4584-f4f3-17f3deae89af"
      },
      "execution_count": null,
      "outputs": [
        {
          "output_type": "stream",
          "name": "stdout",
          "text": [
            "[14, 23, 23, 26, 44, 45, 45, 45, 45, 53, 55, 56, 59, 72, 78, 89]\n"
          ]
        }
      ]
    },
    {
      "cell_type": "code",
      "source": [
        "l2.sort(reverse=True)"
      ],
      "metadata": {
        "id": "0ZUjiRIRyTRs"
      },
      "execution_count": null,
      "outputs": []
    },
    {
      "cell_type": "code",
      "source": [
        "print(l2)"
      ],
      "metadata": {
        "colab": {
          "base_uri": "https://localhost:8080/"
        },
        "id": "RtzB5ewpyYQV",
        "outputId": "ff302009-24bf-4405-a3c4-055f3f26c8c0"
      },
      "execution_count": null,
      "outputs": [
        {
          "output_type": "stream",
          "name": "stdout",
          "text": [
            "[89, 78, 72, 59, 56, 55, 53, 45, 45, 45, 45, 44, 26, 23, 23, 14]\n"
          ]
        }
      ]
    },
    {
      "cell_type": "code",
      "source": [
        "sum(l2) #will add all the numbers in the list"
      ],
      "metadata": {
        "colab": {
          "base_uri": "https://localhost:8080/"
        },
        "id": "__BnOoyKwCco",
        "outputId": "eac85ad5-ad13-4b9c-da95-89489ae41dc8"
      },
      "execution_count": null,
      "outputs": [
        {
          "output_type": "execute_result",
          "data": {
            "text/plain": [
              "772"
            ]
          },
          "metadata": {},
          "execution_count": 113
        }
      ]
    },
    {
      "cell_type": "code",
      "source": [
        "max(l2) #will show the largest number from the list"
      ],
      "metadata": {
        "colab": {
          "base_uri": "https://localhost:8080/"
        },
        "id": "Yg0xdIqAwIZN",
        "outputId": "810290cc-97c7-41e9-e005-4deb84e36e39"
      },
      "execution_count": null,
      "outputs": [
        {
          "output_type": "execute_result",
          "data": {
            "text/plain": [
              "89"
            ]
          },
          "metadata": {},
          "execution_count": 114
        }
      ]
    },
    {
      "cell_type": "code",
      "source": [
        "min(l2) #will show the smallest number from the list"
      ],
      "metadata": {
        "colab": {
          "base_uri": "https://localhost:8080/"
        },
        "id": "X-BIC1o0wgKO",
        "outputId": "bef16228-6a05-44b9-91d3-7d4a813639fc"
      },
      "execution_count": null,
      "outputs": [
        {
          "output_type": "execute_result",
          "data": {
            "text/plain": [
              "14"
            ]
          },
          "metadata": {},
          "execution_count": 115
        }
      ]
    },
    {
      "cell_type": "code",
      "source": [],
      "metadata": {
        "id": "_E6AgvJvwp-v"
      },
      "execution_count": null,
      "outputs": []
    }
  ]
}
